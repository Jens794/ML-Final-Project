{
 "cells": [
  {
   "cell_type": "code",
   "execution_count": 1,
   "metadata": {},
   "outputs": [
    {
     "name": "stderr",
     "output_type": "stream",
     "text": [
      "C:\\Users\\EKR\\Anaconda3\\lib\\site-packages\\h5py\\__init__.py:36: FutureWarning: Conversion of the second argument of issubdtype from `float` to `np.floating` is deprecated. In future, it will be treated as `np.float64 == np.dtype(float).type`.\n",
      "  from ._conv import register_converters as _register_converters\n",
      "Using TensorFlow backend.\n"
     ]
    }
   ],
   "source": [
    "import os\n",
    "import tensorflow as tf\n",
    "from keras.models import Sequential\n",
    "from keras.utils import to_categorical\n",
    "from keras.layers import Dense\n",
    "import numpy as np\n",
    "import pandas as pd"
   ]
  },
  {
   "cell_type": "code",
   "execution_count": 2,
   "metadata": {},
   "outputs": [],
   "source": [
    "file = './datasets/HCAHPS 15.csv'"
   ]
  },
  {
   "cell_type": "code",
   "execution_count": 3,
   "metadata": {
    "scrolled": true
   },
   "outputs": [
    {
     "name": "stderr",
     "output_type": "stream",
     "text": [
      "C:\\Users\\Joseph\\Anaconda3\\lib\\site-packages\\IPython\\core\\interactiveshell.py:2785: DtypeWarning: Columns (17,18) have mixed types. Specify dtype option on import or set low_memory=False.\n",
      "  interactivity=interactivity, compiler=compiler, result=result)\n"
     ]
    },
    {
     "data": {
      "text/plain": [
       "Index(['Provider_ID', 'Hospital_Name', 'Address', 'City', 'State', 'ZIP_Code',\n",
       "       'County_Name', 'Phone_Number', 'HCAHPS_Measure_ID', 'HCAHPS_Question',\n",
       "       ...\n",
       "       'Unnamed: 122', 'Unnamed: 123', 'Unnamed: 124', 'Unnamed: 125',\n",
       "       'Unnamed: 126', 'Unnamed: 127', 'Unnamed: 128', 'Unnamed: 129',\n",
       "       'Unnamed: 130', 'Unnamed: 131'],\n",
       "      dtype='object', length=132)"
      ]
     },
     "execution_count": 3,
     "metadata": {},
     "output_type": "execute_result"
    }
   ],
   "source": [
    "df = pd.read_csv(file)\n",
    "df.columns"
   ]
  },
  {
   "cell_type": "code",
   "execution_count": 4,
   "metadata": {},
   "outputs": [],
   "source": [
    "# remove unessecary columns\n",
    "\n",
    "df1 = df[['Provider_ID','HCAHPS_Measure_ID', 'HCAHPS_Answer_Description', 'Patient_Survey_Star_Rating',\n",
    "       'Patient_Survey_Star_Rating_Footnote', 'HCAHPS_Answer_Percent','HCAHPS_Answer_Percent_Footnote', \n",
    "       'HCAHPS_Linear_Mean_Value','Number_of_Completed_Surveys', 'Number_of_Completed_Surveys_Footnote',\n",
    "       'Survey_Response_Rate_Percent', 'Survey_Response_Rate_Percent_Footnote','Measure_Start_Date', 'Measure_End_Date']]     "
   ]
  },
  {
   "cell_type": "code",
   "execution_count": 5,
   "metadata": {},
   "outputs": [],
   "source": [
    "# get rid of all non Linear Mean score lines\n",
    "\n",
    "df2 = df1.loc[(df1['HCAHPS_Measure_ID'] == 'H_CLEAN_LINEAR_SCORE') | (df1['HCAHPS_Measure_ID'] == 'H_COMP_1_LINEAR_SCORE') |\n",
    "      (df1['HCAHPS_Measure_ID'] == 'H_COMP_2_LINEAR_SCORE') | (df1['HCAHPS_Measure_ID'] == 'H_COMP_3_LINEAR_SCORE') | \n",
    "      (df1['HCAHPS_Measure_ID'] == 'H_COMP_4_LINEAR_SCORE') | (df1['HCAHPS_Measure_ID'] == 'H_COMP_5_LINEAR_SCORE') | \n",
    "      (df1['HCAHPS_Measure_ID'] == 'H_COMP_6_LINEAR_SCORE') | (df1['HCAHPS_Measure_ID'] == 'H_COMP_7_LINEAR_SCORE') | \n",
    "      (df1['HCAHPS_Measure_ID'] == 'H_HSP_RATING_LINEAR_SCORE') | (df1['HCAHPS_Measure_ID'] == 'H_QUIET_LINEAR_SCORE') | \n",
    "      (df1['HCAHPS_Measure_ID'] == 'H_RECMND_LINEAR_SCORE'),:]\n"
   ]
  },
  {
   "cell_type": "code",
   "execution_count": 6,
   "metadata": {},
   "outputs": [],
   "source": [
    "# get rid of all the 'Not Applicable' and 'Not Available' rows for 'HCAHPS_Linear_Mean_Value'\n",
    "\n",
    "df2 = df2.loc[df2.HCAHPS_Linear_Mean_Value != 'Not Applicable']\n",
    "df2 = df2.loc[df2.HCAHPS_Linear_Mean_Value != 'Not Available']"
   ]
  },
  {
   "cell_type": "code",
   "execution_count": 7,
   "metadata": {},
   "outputs": [],
   "source": [
    "# get rid of remaining footnotes that void survey\n",
    "\n",
    "df2 = df2[pd.isnull(df2.Survey_Response_Rate_Percent_Footnote)]"
   ]
  },
  {
   "cell_type": "code",
   "execution_count": 8,
   "metadata": {
    "scrolled": true
   },
   "outputs": [],
   "source": [
    "#re-index from 1\n",
    "\n",
    "df2.reset_index(drop=True, inplace=True)"
   ]
  },
  {
   "cell_type": "code",
   "execution_count": 9,
   "metadata": {},
   "outputs": [],
   "source": [
    "df2.to_csv('C:/GT Bootcamp/Projects/Final project/combined/New folder/3_2222.csv')"
   ]
  },
  {
   "cell_type": "code",
   "execution_count": 10,
   "metadata": {},
   "outputs": [],
   "source": [
    "# create lists that will be zipped up into a dataframe:\n",
    "\n",
    "Provider_ID  = []\n",
    "Care_transition_LMS  = []\n",
    "Cleanliness_LMS  = []\n",
    "Communication_about_medicines_LMS  = []\n",
    "Discharge_information_LMS  = []\n",
    "Doctor_communication_LMS  = []\n",
    "Nurse_communication_LMS  = []\n",
    "Overall_hospital_rating_LMS  = []\n",
    "Pain_management_LMS  = []\n",
    "Quietness_LMS  = []\n",
    "Recommend_hospital_LMS  = []\n",
    "Staff_responsiveness_LMS  = []\n",
    "Survey_Response_Rate_Percent_Footnote  = []\n",
    "Measure_Start_Date  = []\n",
    "Measure_End_Date  = []\n",
    "x = 0"
   ]
  },
  {
   "cell_type": "code",
   "execution_count": 11,
   "metadata": {},
   "outputs": [],
   "source": [
    "for i in range(0,len(df2.index)):    \n",
    "    \n",
    "    if df2.loc[i,'HCAHPS_Answer_Description'] == 'Care transition - linear mean score':\n",
    "        Provider_ID.append(df2['Provider_ID'].iloc[i])\n",
    "        Measure_Start_Date.append(df2['Measure_Start_Date'].iloc[i])\n",
    "        Measure_End_Date.append(df2['Measure_Start_Date'].iloc[i])\n",
    "                \n",
    "        Care_transition_LMS.append(df2.loc[i,'HCAHPS_Linear_Mean_Value'])\n",
    "                                          \n",
    "    elif df2.loc[i,'HCAHPS_Answer_Description'] == 'Cleanliness - linear mean score':\n",
    "        \n",
    "        Cleanliness_LMS.append(df2.loc[i,'HCAHPS_Linear_Mean_Value'])\n",
    "                  \n",
    "    elif df2.loc[i,'HCAHPS_Answer_Description'] == 'Communication about medicines - linear mean score':\n",
    "        \n",
    "        Communication_about_medicines_LMS.append(df2.loc[i,'HCAHPS_Linear_Mean_Value'])\n",
    "        \n",
    "    elif df2.loc[i,'HCAHPS_Answer_Description'] == 'Discharge information - linear mean score':\n",
    "        \n",
    "        Discharge_information_LMS.append(df2.loc[i,'HCAHPS_Linear_Mean_Value'])                         \n",
    "        \n",
    "    elif df2.loc[i,'HCAHPS_Answer_Description'] == 'Doctor communication - linear mean score':\n",
    "        \n",
    "        Doctor_communication_LMS.append(df2.loc[i,'HCAHPS_Linear_Mean_Value'])\n",
    "        \n",
    "    elif df2.loc[i,'HCAHPS_Answer_Description'] == 'Nurse communication - linear mean score':\n",
    "        \n",
    "        Nurse_communication_LMS.append(df2.loc[i,'HCAHPS_Linear_Mean_Value'])\n",
    "        \n",
    "    elif df2.loc[i,'HCAHPS_Answer_Description'] == 'Overall hospital rating - linear mean score':\n",
    "        \n",
    "        Overall_hospital_rating_LMS.append(df2.loc[i,'HCAHPS_Linear_Mean_Value'])\n",
    "       \n",
    "    elif df2.loc[i,'HCAHPS_Answer_Description'] == 'Pain management - linear mean score':\n",
    "        \n",
    "        Pain_management_LMS.append(df2.loc[i,'HCAHPS_Linear_Mean_Value'])\n",
    "        \n",
    "    elif df2.loc[i,'HCAHPS_Answer_Description'] == 'Quietness - linear mean score':\n",
    "        \n",
    "        Quietness_LMS.append(df2.loc[i,'HCAHPS_Linear_Mean_Value'])\n",
    "       \n",
    "    elif df2.loc[i,'HCAHPS_Answer_Description'] == 'Recommend hospital - linear mean score':\n",
    "        \n",
    "        Recommend_hospital_LMS.append(df2.loc[i,'HCAHPS_Linear_Mean_Value'])\n",
    "             \n",
    "    elif df2.loc[i,'HCAHPS_Answer_Description'] == 'Staff responsiveness - linear mean score':\n",
    "        \n",
    "        Staff_responsiveness_LMS.append(df2.loc[i,'HCAHPS_Linear_Mean_Value'])\n",
    "                                         \n",
    "    else:\n",
    "        x=2  "
   ]
  },
  {
   "cell_type": "code",
   "execution_count": 12,
   "metadata": {},
   "outputs": [],
   "source": [
    "zippedList =  list(zip(Provider_ID,Care_transition_LMS,Cleanliness_LMS,Communication_about_medicines_LMS,\n",
    "                       Discharge_information_LMS,Doctor_communication_LMS,Nurse_communication_LMS,\n",
    "                       Overall_hospital_rating_LMS,Pain_management_LMS,Quietness_LMS,Recommend_hospital_LMS,\n",
    "                       Staff_responsiveness_LMS,Measure_Start_Date,Measure_End_Date))"
   ]
  },
  {
   "cell_type": "code",
   "execution_count": 13,
   "metadata": {},
   "outputs": [],
   "source": [
    "# Create a dataframe from zipped list\n",
    "\n",
    "df8 = pd.DataFrame(zippedList, columns = ['Provider_ID', 'Care_transition_LMS', 'Cleanliness_LMS', \n",
    "                           'Communication_about_medicines_LMS', 'Discharge_information_LMS','Doctor_communication_LMS', \n",
    "                           'Nurse_communication_LMS', 'Overall_hospital_rating_LMS','Pain_management_LMS',\n",
    "                           'Quietness_LMS', 'Recommend_hospital_LMS', 'Staff_responsiveness_LMS','Measure_Start_Date',\n",
    "                           'Measure_End_Date']) \n"
   ]
  },
  {
   "cell_type": "code",
   "execution_count": 14,
   "metadata": {},
   "outputs": [],
   "source": [
    "df8.to_csv('C:/GT Bootcamp/Projects/Final project/combined/New folder/15_2222.csv')"
   ]
  },
  {
   "cell_type": "code",
   "execution_count": null,
   "metadata": {},
   "outputs": [],
   "source": []
  },
  {
   "cell_type": "code",
   "execution_count": null,
   "metadata": {},
   "outputs": [],
   "source": []
  }
 ],
 "metadata": {
  "kernelspec": {
   "display_name": "Python [default]",
   "language": "python",
   "name": "python3"
  },
  "language_info": {
   "codemirror_mode": {
    "name": "ipython",
    "version": 3
   },
   "file_extension": ".py",
   "mimetype": "text/x-python",
   "name": "python",
   "nbconvert_exporter": "python",
   "pygments_lexer": "ipython3",
   "version": "3.6.5"
  }
 },
 "nbformat": 4,
 "nbformat_minor": 2
}
