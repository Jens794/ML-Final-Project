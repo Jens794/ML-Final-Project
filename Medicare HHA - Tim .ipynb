{
 "cells": [
  {
   "cell_type": "markdown",
   "metadata": {},
   "source": [
    "# Medicare HHA"
   ]
  },
  {
   "cell_type": "markdown",
   "metadata": {},
   "source": [
    "For this Analysis I just included 1)services offered 2)Survey Results 3)Year Certified"
   ]
  },
  {
   "cell_type": "code",
   "execution_count": 44,
   "metadata": {
    "scrolled": true
   },
   "outputs": [],
   "source": [
    "# Dependencies\n",
    "import pandas as pd\n",
    "import numpy as np\n",
    "import matplotlib.pyplot as plt\n",
    "from time import time\n",
    "\n",
    "from IPython.display import display # Allows the use of display() for displaying DataFrames\n",
    "\n",
    "import seaborn as sns\n",
    "\n",
    "# Import supplementary visualization code visuals.py from project root folder \n",
    "# Code support from https://github.com/booleanhunter/ML-supervised-learning/tree/master/game-of-wines\n",
    "#import visuals as vs\n",
    "#from vpython import visual as vs\n",
    "\n",
    "# Import train_test_split\n",
    "from sklearn.model_selection import train_test_split\n",
    "\n",
    "# Pretty display for notebooks\n",
    "%matplotlib inline"
   ]
  },
  {
   "cell_type": "code",
   "execution_count": 45,
   "metadata": {
    "scrolled": true
   },
   "outputs": [
    {
     "data": {
      "text/html": [
       "<div>\n",
       "<style scoped>\n",
       "    .dataframe tbody tr th:only-of-type {\n",
       "        vertical-align: middle;\n",
       "    }\n",
       "\n",
       "    .dataframe tbody tr th {\n",
       "        vertical-align: top;\n",
       "    }\n",
       "\n",
       "    .dataframe thead th {\n",
       "        text-align: right;\n",
       "    }\n",
       "</style>\n",
       "<table border=\"1\" class=\"dataframe\">\n",
       "  <thead>\n",
       "    <tr style=\"text-align: right;\">\n",
       "      <th></th>\n",
       "      <th>Year</th>\n",
       "      <th>Provider ID</th>\n",
       "      <th>City</th>\n",
       "      <th>State</th>\n",
       "      <th>Zip Code</th>\n",
       "      <th>Average HCC Score</th>\n",
       "      <th>Offers Nursing Care Services</th>\n",
       "      <th>Offers Physical Therapy Services</th>\n",
       "      <th>Offers Occupational Therapy Services</th>\n",
       "      <th>Offers Speech Pathology Services</th>\n",
       "      <th>Offers Medical Social Services</th>\n",
       "      <th>Offers Home Health Aide Services</th>\n",
       "      <th>Year Certified</th>\n",
       "      <th>Star rating: communicated well with them</th>\n",
       "      <th>Star rating: discussed medicines, pain, home safety</th>\n",
       "      <th>Star rating: gave care in a professional way</th>\n",
       "      <th>Star rating: overall care</th>\n",
       "      <th>Summary Star Rating</th>\n",
       "    </tr>\n",
       "  </thead>\n",
       "  <tbody>\n",
       "    <tr>\n",
       "      <th>0</th>\n",
       "      <td>2016</td>\n",
       "      <td>187070</td>\n",
       "      <td>OWENTON</td>\n",
       "      <td>KY</td>\n",
       "      <td>40359</td>\n",
       "      <td>2.46</td>\n",
       "      <td>Yes</td>\n",
       "      <td>Yes</td>\n",
       "      <td>Yes</td>\n",
       "      <td>No</td>\n",
       "      <td>No</td>\n",
       "      <td>Yes</td>\n",
       "      <td>1976</td>\n",
       "      <td>5</td>\n",
       "      <td>5</td>\n",
       "      <td>5</td>\n",
       "      <td>5</td>\n",
       "      <td>5</td>\n",
       "    </tr>\n",
       "    <tr>\n",
       "      <th>1</th>\n",
       "      <td>2016</td>\n",
       "      <td>187073</td>\n",
       "      <td>FRANKFORT</td>\n",
       "      <td>KY</td>\n",
       "      <td>40601</td>\n",
       "      <td>2.07</td>\n",
       "      <td>Yes</td>\n",
       "      <td>Yes</td>\n",
       "      <td>Yes</td>\n",
       "      <td>Yes</td>\n",
       "      <td>No</td>\n",
       "      <td>Yes</td>\n",
       "      <td>1977</td>\n",
       "      <td>4</td>\n",
       "      <td>2</td>\n",
       "      <td>3</td>\n",
       "      <td>3</td>\n",
       "      <td>3</td>\n",
       "    </tr>\n",
       "    <tr>\n",
       "      <th>2</th>\n",
       "      <td>2016</td>\n",
       "      <td>237018</td>\n",
       "      <td>0</td>\n",
       "      <td>MI</td>\n",
       "      <td>49783</td>\n",
       "      <td>1.98</td>\n",
       "      <td>Yes</td>\n",
       "      <td>Yes</td>\n",
       "      <td>Yes</td>\n",
       "      <td>Yes</td>\n",
       "      <td>Yes</td>\n",
       "      <td>Yes</td>\n",
       "      <td>1966</td>\n",
       "      <td>5</td>\n",
       "      <td>2</td>\n",
       "      <td>3</td>\n",
       "      <td>3</td>\n",
       "      <td>3</td>\n",
       "    </tr>\n",
       "    <tr>\n",
       "      <th>3</th>\n",
       "      <td>2016</td>\n",
       "      <td>267057</td>\n",
       "      <td>CROCKER</td>\n",
       "      <td>MO</td>\n",
       "      <td>65452</td>\n",
       "      <td>2.08</td>\n",
       "      <td>Yes</td>\n",
       "      <td>Yes</td>\n",
       "      <td>Yes</td>\n",
       "      <td>Yes</td>\n",
       "      <td>No</td>\n",
       "      <td>Yes</td>\n",
       "      <td>1975</td>\n",
       "      <td>4</td>\n",
       "      <td>3</td>\n",
       "      <td>3</td>\n",
       "      <td>3</td>\n",
       "      <td>3</td>\n",
       "    </tr>\n",
       "    <tr>\n",
       "      <th>4</th>\n",
       "      <td>2016</td>\n",
       "      <td>277012</td>\n",
       "      <td>BILLINGS</td>\n",
       "      <td>MT</td>\n",
       "      <td>59101</td>\n",
       "      <td>2.41</td>\n",
       "      <td>Yes</td>\n",
       "      <td>Yes</td>\n",
       "      <td>Yes</td>\n",
       "      <td>Yes</td>\n",
       "      <td>Yes</td>\n",
       "      <td>Yes</td>\n",
       "      <td>1967</td>\n",
       "      <td>4</td>\n",
       "      <td>2</td>\n",
       "      <td>4</td>\n",
       "      <td>3</td>\n",
       "      <td>3</td>\n",
       "    </tr>\n",
       "  </tbody>\n",
       "</table>\n",
       "</div>"
      ],
      "text/plain": [
       "   Year  Provider ID       City State  Zip Code  Average HCC Score  \\\n",
       "0  2016       187070    OWENTON    KY     40359               2.46   \n",
       "1  2016       187073  FRANKFORT    KY     40601               2.07   \n",
       "2  2016       237018          0    MI     49783               1.98   \n",
       "3  2016       267057    CROCKER    MO     65452               2.08   \n",
       "4  2016       277012   BILLINGS    MT     59101               2.41   \n",
       "\n",
       "  Offers Nursing Care Services Offers Physical Therapy Services  \\\n",
       "0                          Yes                              Yes   \n",
       "1                          Yes                              Yes   \n",
       "2                          Yes                              Yes   \n",
       "3                          Yes                              Yes   \n",
       "4                          Yes                              Yes   \n",
       "\n",
       "  Offers Occupational Therapy Services Offers Speech Pathology Services  \\\n",
       "0                                  Yes                               No   \n",
       "1                                  Yes                              Yes   \n",
       "2                                  Yes                              Yes   \n",
       "3                                  Yes                              Yes   \n",
       "4                                  Yes                              Yes   \n",
       "\n",
       "  Offers Medical Social Services Offers Home Health Aide Services  \\\n",
       "0                             No                              Yes   \n",
       "1                             No                              Yes   \n",
       "2                            Yes                              Yes   \n",
       "3                             No                              Yes   \n",
       "4                            Yes                              Yes   \n",
       "\n",
       "   Year Certified  Star rating: communicated well with them  \\\n",
       "0            1976                                         5   \n",
       "1            1977                                         4   \n",
       "2            1966                                         5   \n",
       "3            1975                                         4   \n",
       "4            1967                                         4   \n",
       "\n",
       "   Star rating: discussed medicines, pain, home safety  \\\n",
       "0                                                  5     \n",
       "1                                                  2     \n",
       "2                                                  2     \n",
       "3                                                  3     \n",
       "4                                                  2     \n",
       "\n",
       "   Star rating: gave care in a professional way  Star rating: overall care  \\\n",
       "0                                             5                          5   \n",
       "1                                             3                          3   \n",
       "2                                             3                          3   \n",
       "3                                             3                          3   \n",
       "4                                             4                          3   \n",
       "\n",
       "   Summary Star Rating  \n",
       "0                    5  \n",
       "1                    3  \n",
       "2                    3  \n",
       "3                    3  \n",
       "4                    3  "
      ]
     },
     "execution_count": 45,
     "metadata": {},
     "output_type": "execute_result"
    }
   ],
   "source": [
    "# Import data\n",
    "hha_file = \"C:/Users/Joseph/Downloads/ML-Final-Project-master (2)/ML-Final-Project-master/datasets/Survey/Surveyfirst_hha_df TH.csv\"\n",
    "hha_df = pd.read_csv(hha_file)\n",
    "hha_df.head()"
   ]
  },
  {
   "cell_type": "code",
   "execution_count": 46,
   "metadata": {
    "scrolled": true
   },
   "outputs": [
    {
     "data": {
      "text/plain": [
       "Index(['Year', 'Provider ID', 'City', 'State', 'Zip Code', 'Average HCC Score',\n",
       "       'Offers Nursing Care Services', 'Offers Physical Therapy Services',\n",
       "       'Offers Occupational Therapy Services',\n",
       "       'Offers Speech Pathology Services', 'Offers Medical Social Services',\n",
       "       'Offers Home Health Aide Services', 'Year Certified',\n",
       "       'Star rating: communicated well with them',\n",
       "       'Star rating: discussed medicines, pain, home safety',\n",
       "       'Star rating: gave care in a professional way',\n",
       "       'Star rating: overall care', 'Summary Star Rating'],\n",
       "      dtype='object')"
      ]
     },
     "execution_count": 46,
     "metadata": {},
     "output_type": "execute_result"
    }
   ],
   "source": [
    "hha_df.columns"
   ]
  },
  {
   "cell_type": "code",
   "execution_count": 47,
   "metadata": {},
   "outputs": [],
   "source": [
    "cols_to_transform = ['Offers Nursing Care Services', 'Offers Physical Therapy Services', 'Offers Occupational Therapy Services',\n",
    "                     'Offers Speech Pathology Services', 'Offers Medical Social Services', 'Offers Home Health Aide Services'] \n",
    "hha_df = pd.get_dummies(hha_df, columns = cols_to_transform )"
   ]
  },
  {
   "cell_type": "code",
   "execution_count": 48,
   "metadata": {},
   "outputs": [],
   "source": [
    "hha_df.to_csv('C:/Users/Joseph/Downloads/ML-Final-Project-master (2)/ML-Final-Project-master/datasets/Survey/2.csv')"
   ]
  },
  {
   "cell_type": "code",
   "execution_count": 49,
   "metadata": {},
   "outputs": [],
   "source": [
    "# convert to numeric\n",
    "hha_df[['Zip Code', 'Average HCC Score', 'Year Certified', 'Star rating: communicated well with them',\n",
    "        'Star rating: discussed medicines, pain, home safety', 'Star rating: gave care in a professional way',\n",
    "        'Star rating: overall care', 'Summary Star Rating']] = hha_df[['Zip Code', 'Average HCC Score',\n",
    "        'Year Certified', 'Star rating: communicated well with them',\n",
    "        'Star rating: discussed medicines, pain, home safety', 'Star rating: gave care in a professional way',\n",
    "        'Star rating: overall care', 'Summary Star Rating']].apply(pd.to_numeric)"
   ]
  },
  {
   "cell_type": "code",
   "execution_count": 51,
   "metadata": {},
   "outputs": [],
   "source": [
    "hha_df.to_csv('C:/Users/Joseph/Downloads/ML-Final-Project-master (2)/ML-Final-Project-master/datasets/3.csv')"
   ]
  },
  {
   "cell_type": "code",
   "execution_count": 52,
   "metadata": {
    "scrolled": true
   },
   "outputs": [
    {
     "data": {
      "text/plain": [
       "count    16712.000000\n",
       "mean         2.169622\n",
       "std          0.320200\n",
       "min          0.810000\n",
       "25%          1.970000\n",
       "50%          2.150000\n",
       "75%          2.350000\n",
       "max          5.070000\n",
       "Name: Average HCC Score, dtype: float64"
      ]
     },
     "execution_count": 52,
     "metadata": {},
     "output_type": "execute_result"
    }
   ],
   "source": [
    "# Get column names\n",
    "# hha_columns = list(hha_df)\n",
    "# hha_columns\n",
    "\n",
    "# Get info about Avg HCC Score\n",
    "hhc_describe = hha_df[\"Average HCC Score\"].describe()\n",
    "hhc_describe"
   ]
  },
  {
   "cell_type": "code",
   "execution_count": 53,
   "metadata": {
    "scrolled": true
   },
   "outputs": [],
   "source": [
    "# remove NaN rows\n",
    "\n",
    "clean_hha_df = hha_df.dropna()"
   ]
  },
  {
   "cell_type": "code",
   "execution_count": 54,
   "metadata": {},
   "outputs": [
    {
     "data": {
      "text/plain": [
       "count    16712.000000\n",
       "mean         2.169622\n",
       "std          0.320200\n",
       "min          0.810000\n",
       "25%          1.970000\n",
       "50%          2.150000\n",
       "75%          2.350000\n",
       "max          5.070000\n",
       "Name: Average HCC Score, dtype: float64"
      ]
     },
     "execution_count": 54,
     "metadata": {},
     "output_type": "execute_result"
    }
   ],
   "source": [
    "# Get info about cleaned Avg HCC Score\n",
    "\n",
    "clean_hhc_describe = clean_hha_df[\"Average HCC Score\"].describe()\n",
    "clean_hhc_describe"
   ]
  },
  {
   "cell_type": "code",
   "execution_count": 55,
   "metadata": {
    "scrolled": true
   },
   "outputs": [],
   "source": [
    "# Cleaner - replace astericks with 0\n",
    "\n",
    "cleaner_hha_df = clean_hha_df.replace('^\\*+$', 0, regex=True)\n",
    "cleaner_hha_df = clean_hha_df.replace(' * ', 0, regex=True)\n"
   ]
  },
  {
   "cell_type": "markdown",
   "metadata": {},
   "source": [
    "## Data prep, transforming, splitting"
   ]
  },
  {
   "cell_type": "code",
   "execution_count": 56,
   "metadata": {
    "scrolled": false
   },
   "outputs": [
    {
     "data": {
      "text/plain": [
       "<matplotlib.axes._subplots.AxesSubplot at 0x2cbce0e2128>"
      ]
     },
     "execution_count": 56,
     "metadata": {},
     "output_type": "execute_result"
    },
    {
     "data": {
      "image/png": "[encoded data removed]",
      "text/plain": [
       "<Figure size 432x288 with 1 Axes>"
      ]
     },
     "metadata": {},
     "output_type": "display_data"
    }
   ],
   "source": [
    "# Histogram of HCC\n",
    "\n",
    "cleaner_hha_df[\"Average HCC Score\"].hist()"
   ]
  },
  {
   "cell_type": "code",
   "execution_count": 58,
   "metadata": {},
   "outputs": [],
   "source": [
    "#Defining the splits for HCC scores. 0-1.08 will be low risk, 1.09+ will be high risk.\n",
    "bins = [0, 1.5, 3, 4.5, 6]\n",
    "\n",
    "#1 for low risk, 2 for high risk\n",
    "risk_labels=[\"low risk\", \"high risk level 1\", \"high risk level 2\", \"high risk level 3\"]\n",
    "\n",
    "cleaner_hha_df['risk_categorical'] = pd.cut(cleaner_hha_df['Average HCC Score'], bins=bins, labels=risk_labels, include_lowest=True)\n",
    "\n",
    "# Split the data into features and target label\n",
    "risk_raw = cleaner_hha_df['risk_categorical']\n",
    "features_raw = cleaner_hha_df.drop(['Average HCC Score', 'risk_categorical', 'Provider ID', \\\n",
    "                                    'City', 'State',], axis = 1)\n",
    "\n",
    "\n",
    "cleaner_hha_df.to_csv(\"C:/Users/Joseph/Downloads/ML-Final-Project-master (2)/ML-Final-Project-master/datasets/Survey/4.csv\")\n",
    "\n"
   ]
  },
  {
   "cell_type": "markdown",
   "metadata": {},
   "source": [
    "## Training & Testing"
   ]
  },
  {
   "cell_type": "code",
   "execution_count": 59,
   "metadata": {
    "scrolled": true
   },
   "outputs": [
    {
     "name": "stdout",
     "output_type": "stream",
     "text": [
      "Training set has 13369 samples.\n",
      "Testing set has 3343 samples.\n"
     ]
    }
   ],
   "source": [
    "# Split the 'features' and 'risk' data into training and testing sets\n",
    "X_train, X_test, y_train, y_test = train_test_split(features_raw, risk_raw, test_size = 0.2, random_state = 0)\n",
    "\n",
    "# Show the results of the split\n",
    "print(\"Training set has {} samples.\".format(X_train.shape[0]))\n",
    "print(\"Testing set has {} samples.\".format(X_test.shape[0]))"
   ]
  },
  {
   "cell_type": "code",
   "execution_count": 60,
   "metadata": {},
   "outputs": [],
   "source": [
    "# Import two classification metrics from sklearn - fbeta score and accuracy score\n",
    "from sklearn.metrics import fbeta_score\n",
    "from sklearn.metrics import accuracy_score\n",
    "\n",
    "def train_predict_evaluate(learner, sample_size, X_train, y_train, X_test, y_test):\n",
    "    '''\n",
    "    inputs:\n",
    "    - learner: the learning algorithm to be trained/predicted on\n",
    "    - sample_size: the size of samples to be drawn from the training set\n",
    "    - X_train: features training set\n",
    "    - y_train: risk training set\n",
    "    - x_test: features test set\n",
    "    - y_test: risk test set\n",
    "    '''\n",
    "    \n",
    "    results = {}\n",
    "    \n",
    "    \"\"\"\n",
    "    Fit/train the learner to the training data using slicing with sample_size\n",
    "    using .fit(training_features[:], training_labels[:])\n",
    "    \"\"\"\n",
    "    \n",
    "    start = time()\n",
    "    learner = learner.fit(X_train[:sample_size], y_train[:sample_size])\n",
    "    end = time()\n",
    "    \n",
    "#     Calculate training time\n",
    "    results[\"train_time\"] = end - start\n",
    "    \n",
    "    \"\"\"\n",
    "    Get predictions on the first 300 training samples (X_train)\n",
    "    and predictions on the test set (X_test) using .predict()\n",
    "    \"\"\"\n",
    "    \n",
    "    start = time()\n",
    "    predictions_train = learner.predict(X_train)\n",
    "    predictions_test = learner.predict(X_test)\n",
    "    end = time()\n",
    "    \n",
    "    # Calculate the total prediction time\n",
    "    results[\"pred_time\"] = end - start\n",
    "    \n",
    "    # Compute accuracy on the training samples\n",
    "    results[\"acc_train\"] = accuracy_score(y_train, predictions_train)\n",
    "    \n",
    "    # Compute accuracy on test set, using accuracy_score()\n",
    "    results[\"acc_test\"] = accuracy_score(y_test, predictions_test)\n",
    "    \n",
    "    # Compute f1-score on the ftraining samples, using fbeta_score()\n",
    "    results[\"f_train\"] = fbeta_score(y_train, predictions_train, beta=1, average=\"micro\")\n",
    "    \n",
    "    # Compute f1-score on test set, which is y_test\n",
    "    results[\"f_test\"] = fbeta_score(y_test, predictions_test, beta=1, average=\"micro\")\n",
    "    \n",
    "    # Success\n",
    "    print(\"{} trained on {} samples\".format(learner.__class__.__name__, sample_size))\n",
    "    \n",
    "    # Return results\n",
    "    return results"
   ]
  },
  {
   "cell_type": "markdown",
   "metadata": {},
   "source": [
    "## Model Validation"
   ]
  },
  {
   "cell_type": "code",
   "execution_count": 61,
   "metadata": {
    "scrolled": true
   },
   "outputs": [
    {
     "name": "stdout",
     "output_type": "stream",
     "text": [
      "GaussianNB trained on 133 samples\n",
      "GaussianNB trained on 1336 samples\n",
      "GaussianNB trained on 13369 samples\n",
      "DecisionTreeClassifier trained on 133 samples\n",
      "DecisionTreeClassifier trained on 1336 samples\n",
      "DecisionTreeClassifier trained on 13369 samples\n"
     ]
    },
    {
     "name": "stderr",
     "output_type": "stream",
     "text": [
      "C:\\Users\\Joseph\\Anaconda3\\lib\\site-packages\\sklearn\\ensemble\\forest.py:246: FutureWarning: The default value of n_estimators will change from 10 in version 0.20 to 100 in 0.22.\n",
      "  \"10 in version 0.20 to 100 in 0.22.\", FutureWarning)\n"
     ]
    },
    {
     "name": "stdout",
     "output_type": "stream",
     "text": [
      "RandomForestClassifier trained on 133 samples\n",
      "RandomForestClassifier trained on 1336 samples\n",
      "RandomForestClassifier trained on 13369 samples\n",
      "GaussianNB(priors=None, var_smoothing=1e-09) {'train_time': 0.013964176177978516, 'pred_time': 0.016956567764282227, 'acc_train': 0.9703792355449173, 'acc_test': 0.9697876159138499, 'f_train': 0.9703792355449173, 'f_test': 0.9697876159138499}\n",
      "DecisionTreeClassifier(class_weight=None, criterion='gini', max_depth=None,\n",
      "            max_features=None, max_leaf_nodes=None,\n",
      "            min_impurity_decrease=0.0, min_impurity_split=None,\n",
      "            min_samples_leaf=1, min_samples_split=2,\n",
      "            min_weight_fraction_leaf=0.0, presort=False, random_state=None,\n",
      "            splitter='best') {'train_time': 0.01798248291015625, 'pred_time': 0.01991724967956543, 'acc_train': 0.972922432493081, 'acc_test': 0.9712832784923722, 'f_train': 0.972922432493081, 'f_test': 0.9712832784923722}\n",
      "RandomForestClassifier(bootstrap=True, class_weight=None, criterion='gini',\n",
      "            max_depth=None, max_features='auto', max_leaf_nodes=None,\n",
      "            min_impurity_decrease=0.0, min_impurity_split=None,\n",
      "            min_samples_leaf=1, min_samples_split=2,\n",
      "            min_weight_fraction_leaf=0.0, n_estimators=10, n_jobs=None,\n",
      "            oob_score=False, random_state=None, verbose=0,\n",
      "            warm_start=False) {'train_time': 0.14960265159606934, 'pred_time': 0.038892269134521484, 'acc_train': 0.9956616052060737, 'acc_test': 0.9730780735865988, 'f_train': 0.9956616052060737, 'f_test': 0.9730780735865988}\n"
     ]
    }
   ],
   "source": [
    "# Import any three supervised learning classification models from sklearn\n",
    "from sklearn.naive_bayes import GaussianNB\n",
    "from sklearn.tree import DecisionTreeClassifier\n",
    "from sklearn.ensemble import RandomForestClassifier\n",
    "#from sklearn.linear_model import LogisticRegression\n",
    "\n",
    "# Initialize the three models\n",
    "clf_A = GaussianNB()\n",
    "clf_B = DecisionTreeClassifier(max_depth=None, random_state=None)\n",
    "clf_C = RandomForestClassifier(max_depth=None, random_state=None)\n",
    "\n",
    "# Calculate the number of samples for 1%, 10%, and 100% of the training data\n",
    "# HINT: samples_100 is the entire training set i.e. len(y_train)\n",
    "# HINT: samples_10 is 10% of samples_100\n",
    "# HINT: samples_1 is 1% of samples_100\n",
    "samples_100 = len(y_train)\n",
    "samples_10 = int(len(y_train)*10/100)\n",
    "samples_1 = int(len(y_train)*1/100)\n",
    "\n",
    "# Collect results on the learners\n",
    "results = {}\n",
    "for clf in [clf_A, clf_B, clf_C]:\n",
    "    clf_name = clf.__class__.__name__\n",
    "    results[clf_name] = {}\n",
    "    for i, samples in enumerate([samples_1, samples_10, samples_100]):\n",
    "        results[clf_name][i] = train_predict_evaluate(clf, samples, X_train, y_train, X_test, y_test)\n",
    "\n",
    "    #print(results)\n",
    "\n",
    "# Run metrics visualization for the three supervised learning models chosen\n",
    "# vs.visualize_classification_performance(results)\n",
    "\n",
    "print(clf_A, results[clf_name][0])\n",
    "print(clf_B, results[clf_name][1])\n",
    "print(clf_C, results[clf_name][2])"
   ]
  },
  {
   "cell_type": "code",
   "execution_count": 62,
   "metadata": {
    "scrolled": false
   },
   "outputs": [
    {
     "data": {
      "text/plain": [
       "{'GaussianNB': {0: {'train_time': 0.00498652458190918,\n",
       "   'pred_time': 0.0299222469329834,\n",
       "   'acc_train': 0.9219088937093276,\n",
       "   'acc_test': 0.9228238109482501,\n",
       "   'f_train': 0.9219088937093276,\n",
       "   'f_test': 0.9228238109482501},\n",
       "  1: {'train_time': 0.003997802734375,\n",
       "   'pred_time': 0.022933006286621094,\n",
       "   'acc_train': 0.9478644625626449,\n",
       "   'acc_test': 0.9440622195632665,\n",
       "   'f_train': 0.947864462562645,\n",
       "   'f_test': 0.9440622195632665},\n",
       "  2: {'train_time': 0.020913124084472656,\n",
       "   'pred_time': 0.02094864845275879,\n",
       "   'acc_train': 0.9574388510733787,\n",
       "   'acc_test': 0.9560275201914448,\n",
       "   'f_train': 0.9574388510733787,\n",
       "   'f_test': 0.9560275201914448}},\n",
       " 'DecisionTreeClassifier': {0: {'train_time': 0.0029637813568115234,\n",
       "   'pred_time': 0.0020241737365722656,\n",
       "   'acc_train': 0.9290896850923779,\n",
       "   'acc_test': 0.9309003888722704,\n",
       "   'f_train': 0.9290896850923779,\n",
       "   'f_test': 0.9309003888722706},\n",
       "  1: {'train_time': 0.007980108261108398,\n",
       "   'pred_time': 0.0049860477447509766,\n",
       "   'acc_train': 0.954820854214975,\n",
       "   'acc_test': 0.9467544122046067,\n",
       "   'f_train': 0.954820854214975,\n",
       "   'f_test': 0.9467544122046067},\n",
       "  2: {'train_time': 0.050867557525634766,\n",
       "   'pred_time': 0.002989053726196289,\n",
       "   'acc_train': 1.0,\n",
       "   'acc_test': 0.9647023631468741,\n",
       "   'f_train': 1.0,\n",
       "   'f_test': 0.9647023631468741}},\n",
       " 'RandomForestClassifier': {0: {'train_time': 0.013964176177978516,\n",
       "   'pred_time': 0.016956567764282227,\n",
       "   'acc_train': 0.9703792355449173,\n",
       "   'acc_test': 0.9697876159138499,\n",
       "   'f_train': 0.9703792355449173,\n",
       "   'f_test': 0.9697876159138499},\n",
       "  1: {'train_time': 0.01798248291015625,\n",
       "   'pred_time': 0.01991724967956543,\n",
       "   'acc_train': 0.972922432493081,\n",
       "   'acc_test': 0.9712832784923722,\n",
       "   'f_train': 0.972922432493081,\n",
       "   'f_test': 0.9712832784923722},\n",
       "  2: {'train_time': 0.14960265159606934,\n",
       "   'pred_time': 0.038892269134521484,\n",
       "   'acc_train': 0.9956616052060737,\n",
       "   'acc_test': 0.9730780735865988,\n",
       "   'f_train': 0.9956616052060737,\n",
       "   'f_test': 0.9730780735865988}}}"
      ]
     },
     "execution_count": 62,
     "metadata": {},
     "output_type": "execute_result"
    }
   ],
   "source": [
    "results"
   ]
  },
  {
   "cell_type": "code",
   "execution_count": 63,
   "metadata": {},
   "outputs": [],
   "source": [
    "results_df = pd.DataFrame(results)"
   ]
  },
  {
   "cell_type": "code",
   "execution_count": 65,
   "metadata": {},
   "outputs": [],
   "source": [
    "results_df.to_csv(\"C:/Users/Joseph/Downloads/ML-Final-Project-master (2)/ML-Final-Project-master/datasets/Survey/TimResults.csv\")"
   ]
  },
  {
   "cell_type": "code",
   "execution_count": 66,
   "metadata": {},
   "outputs": [],
   "source": [
    "# Define train and test values for accuracy and f-score\n",
    "\n",
    "gnb_acc_train = results['GaussianNB'][2]['acc_train']\n",
    "gnb_acc_test = results['GaussianNB'][2]['acc_test']\n",
    "\n",
    "dtc_acc_train = results['DecisionTreeClassifier'][2]['acc_train']\n",
    "dtc_acc_test = results['DecisionTreeClassifier'][2]['acc_test']\n",
    "\n",
    "rfc_acc_train = results['RandomForestClassifier'][2]['acc_train']\n",
    "rfc_acc_test = results['RandomForestClassifier'][2]['acc_test']\n",
    "\n",
    "gnb_f_train = results['GaussianNB'][2]['f_train']\n",
    "gnb_f_test = results['GaussianNB'][2]['f_test']\n",
    "\n",
    "dtc_f_train = results['DecisionTreeClassifier'][2]['f_train']\n",
    "dtc_f_test = results['DecisionTreeClassifier'][2]['f_test']\n",
    "\n",
    "rfc_f_train = results['RandomForestClassifier'][2]['f_train']\n",
    "rfc_f_test = results['RandomForestClassifier'][2]['f_test']"
   ]
  },
  {
   "cell_type": "code",
   "execution_count": 67,
   "metadata": {
    "scrolled": true
   },
   "outputs": [
    {
     "data": {
      "image/png": "[encoded data removed]",
      "text/plain": [
       "<Figure size 432x288 with 1 Axes>"
      ]
     },
     "metadata": {},
     "output_type": "display_data"
    },
    {
     "data": {
      "image/png": "[encoded data removed]",
      "text/plain": [
       "<Figure size 432x288 with 1 Axes>"
      ]
     },
     "metadata": {},
     "output_type": "display_data"
    },
    {
     "data": {
      "image/png": "[encoded data removed]",
      "text/plain": [
       "<Figure size 432x288 with 1 Axes>"
      ]
     },
     "metadata": {},
     "output_type": "display_data"
    },
    {
     "data": {
      "image/png": "[encoded data removed]",
      "text/plain": [
       "<Figure size 432x288 with 1 Axes>"
      ]
     },
     "metadata": {},
     "output_type": "display_data"
    }
   ],
   "source": [
    "# Plot the train & test values for accuracy\n",
    "\n",
    "# green colors: #66CDAA, #98FB98, #3CB371\n",
    "# blue colors: #AFEEEE, #48D1CC, #87CEFA\n",
    "\n",
    "acc_train_x = [1,2,3]\n",
    "acc_train_y = [gnb_acc_train, dtc_acc_train, rfc_acc_train]\n",
    "acc_train_labels = ['GaussianNB', 'DecisionTreeClassifier', 'RandomForestClassifier']\n",
    "\n",
    "acc_train_bar = plt.bar(acc_train_x, acc_train_y)\n",
    "acc_train_bar[0].set_color(\"#66CDAA\")\n",
    "acc_train_bar[1].set_color(\"#98FB98\")\n",
    "acc_train_bar[2].set_color(\"#3CB371\")\n",
    "plt.xticks(acc_train_x, acc_train_labels)\n",
    "plt.title(\"Accuracy Scores on Training Subset\")\n",
    "plt.ylabel('Accuracy')\n",
    "plt.xlabel('Model')\n",
    "plt.text(4, 0.6, f\"GaussianNB Accuracy Score: {gnb_acc_train}\")\n",
    "plt.text(4, 0.8, f\"DecisionTreeClassifier Accuracy Score: {dtc_acc_train}\")\n",
    "plt.text(4, 1, f\"RandomForestClassifier Accuracy Score: {rfc_acc_train}\")\n",
    "plt.show()\n",
    "\n",
    "\n",
    "acc_test_x = [1,2,3]\n",
    "acc_test_y = [gnb_acc_test, dtc_acc_test, rfc_acc_test]\n",
    "acc_test_labels = ['GaussianNB', 'DecisionTreeClassifier', 'RandomForestClassifier']\n",
    "\n",
    "acc_test_bar = plt.bar(acc_test_x, acc_test_y)\n",
    "acc_test_bar[0].set_color(\"#66CDAA\")\n",
    "acc_test_bar[1].set_color(\"#98FB98\")\n",
    "acc_test_bar[2].set_color(\"#3CB371\")\n",
    "plt.xticks(acc_test_x, acc_test_labels)\n",
    "plt.title(\"Accuracy Scores on Testing Subset\")\n",
    "plt.ylabel('Accuracy')\n",
    "plt.xlabel('Model')\n",
    "plt.text(4, 0.6, f\"GaussianNB Accuracy Score: {gnb_acc_test}\")\n",
    "plt.text(4, 0.8, f\"DecisionTreeClassifier Accuracy Score: {dtc_acc_test}\")\n",
    "plt.text(4, 1, f\"RandomForestClassifier Accuracy Score: {rfc_acc_test}\")\n",
    "plt.show()\n",
    "\n",
    "# Plot the train & test values for f-score\n",
    "\n",
    "fscore_train_x = [1,2,3]\n",
    "fscore_train_y = [gnb_f_train, dtc_f_train, rfc_f_train]\n",
    "fscore_train_labels = ['GaussianNB', 'DecisionTreeClassifier', 'RandomForestClassifier']\n",
    "\n",
    "fscore_train_bar = plt.bar(fscore_train_x, fscore_train_y)\n",
    "fscore_train_bar[0].set_color(\"#AFEEEE\")\n",
    "fscore_train_bar[1].set_color(\"#48D1CC\")\n",
    "fscore_train_bar[2].set_color(\"#87CEFA\")\n",
    "plt.xticks(fscore_train_x, fscore_train_labels)\n",
    "plt.title(\"F-Scores on Training Subset\")\n",
    "plt.ylabel('F-Score')\n",
    "plt.xlabel('Model')\n",
    "plt.text(4, 0.6, f\"GaussianNB F-Score: {gnb_f_train}\")\n",
    "plt.text(4, 0.8, f\"DecisionTreeClassifier F-Score: {dtc_f_train}\")\n",
    "plt.text(4, 1, f\"RandomForestClassifier F-Score: {rfc_f_train}\")\n",
    "plt.show()\n",
    "\n",
    "fscore_test_x = [1,2,3]\n",
    "fscore_test_y = [gnb_f_test, dtc_f_test, rfc_f_test]\n",
    "fscore_test_labels = ['GaussianNB', 'DecisionTreeClassifier', 'RandomForestClassifier']\n",
    "\n",
    "fscore_test_bar = plt.bar(fscore_test_x, fscore_test_y)\n",
    "fscore_test_bar[0].set_color(\"#AFEEEE\")\n",
    "fscore_test_bar[1].set_color(\"#48D1CC\")\n",
    "fscore_test_bar[2].set_color(\"#87CEFA\")\n",
    "plt.xticks(fscore_test_x, fscore_test_labels)\n",
    "plt.title(\"F-Scores on Testing Subset\")\n",
    "plt.ylabel('F-Score')\n",
    "plt.xlabel('Model')\n",
    "plt.text(4, 0.6, f\"GaussianNB F-Score: {gnb_f_test}\")\n",
    "plt.text(4, 0.8, f\"DecisionTreeClassifier F-Score: {dtc_f_test}\")\n",
    "plt.text(4, 1, f\"RandomForestClassifier F-Score: {rfc_f_test}\")\n",
    "plt.show()"
   ]
  },
  {
   "cell_type": "code",
   "execution_count": 68,
   "metadata": {
    "scrolled": true
   },
   "outputs": [
    {
     "data": {
      "text/plain": [
       "array([0.00413319, 0.02043862, 0.02189107, 0.02253128, 0.02241259,\n",
       "       0.03155593, 0.0235975 , 0.01587562, 0.00793658, 0.02510775,\n",
       "       0.01168661, 0.02467236, 0.0151879 , 0.02454221, 0.02483636,\n",
       "       0.01950032, 0.02109517, 0.02038555, 0.03683058, 0.01234269,\n",
       "       0.00373705, 0.01440844, 0.00060428, 0.02177705, 0.04599167,\n",
       "       0.02031595, 0.02779898, 0.08192113, 0.08565994, 0.03033917,\n",
       "       0.02361832, 0.04459278, 0.012734  , 0.01499156, 0.0210002 ,\n",
       "       0.02550013, 0.02440639, 0.03721211, 0.01744065, 0.00747163,\n",
       "       0.00461236, 0.00739668, 0.00924295, 0.00348097, 0.        ,\n",
       "       0.        , 0.00021074, 0.00019213, 0.00013762, 0.00103662,\n",
       "       0.00093639, 0.00026321, 0.00198136, 0.00133649, 0.00109117])"
      ]
     },
     "execution_count": 68,
     "metadata": {},
     "output_type": "execute_result"
    }
   ],
   "source": [
    "importances"
   ]
  },
  {
   "cell_type": "code",
   "execution_count": 71,
   "metadata": {
    "scrolled": true
   },
   "outputs": [
    {
     "name": "stdout",
     "output_type": "stream",
     "text": [
      "Index(['Year', 'Zip Code', 'Year Certified',\n",
      "       'Star rating: communicated well with them',\n",
      "       'Star rating: discussed medicines, pain, home safety',\n",
      "       'Star rating: gave care in a professional way',\n",
      "       'Star rating: overall care', 'Summary Star Rating',\n",
      "       'Offers Nursing Care Services_Yes',\n",
      "       'Offers Physical Therapy Services_No',\n",
      "       'Offers Physical Therapy Services_Yes',\n",
      "       'Offers Occupational Therapy Services_No',\n",
      "       'Offers Occupational Therapy Services_Yes',\n",
      "       'Offers Speech Pathology Services_No',\n",
      "       'Offers Speech Pathology Services_Yes',\n",
      "       'Offers Medical Social Services_No',\n",
      "       'Offers Medical Social Services_Yes',\n",
      "       'Offers Home Health Aide Services_No',\n",
      "       'Offers Home Health Aide Services_Yes'],\n",
      "      dtype='object')\n",
      "[1.88128549e-01 3.57436449e-01 1.75795706e-01 3.85555051e-02\n",
      " 6.73179826e-02 5.21877099e-02 4.41520129e-02 3.00182615e-02\n",
      " 0.00000000e+00 0.00000000e+00 2.59202081e-04 2.60301802e-03\n",
      " 4.06606087e-03 5.30590709e-03 6.18921393e-03 1.07639385e-02\n",
      " 5.42593423e-03 6.18953774e-03 5.60501195e-03]\n"
     ]
    },
    {
     "name": "stderr",
     "output_type": "stream",
     "text": [
      "C:\\Users\\Joseph\\Anaconda3\\lib\\site-packages\\sklearn\\ensemble\\forest.py:246: FutureWarning: The default value of n_estimators will change from 10 in version 0.20 to 100 in 0.22.\n",
      "  \"10 in version 0.20 to 100 in 0.22.\", FutureWarning)\n"
     ]
    }
   ],
   "source": [
    "# Import a supervised learning model that has 'feature_importances_'\n",
    "model = RandomForestClassifier(max_depth=None, random_state=None)\n",
    "\n",
    "# Train the supervised model on the training set using .fit(X_train, y_train)\n",
    "model = model.fit(X_train, y_train)\n",
    "\n",
    "# Extract the feature importances using .feature_importances_ \n",
    "importances = model.feature_importances_\n",
    "print(X_train.columns)\n",
    "print(importances)\n",
    "\n",
    "# Plot\n",
    "# vs.feature_plot(importances, X_train, y_train)"
   ]
  },
  {
   "cell_type": "code",
   "execution_count": 73,
   "metadata": {},
   "outputs": [
    {
     "data": {
      "text/plain": [
       "([0, 1, 2, 3, 4, 5, 6, 7, 8, 9, 10, 11, 12, 13, 14, 15, 16, 17, 18],\n",
       " <a list of 19 Text xticklabel objects>)"
      ]
     },
     "execution_count": 73,
     "metadata": {},
     "output_type": "execute_result"
    },
    {
     "data": {
      "image/png": "[encoded data removed]",
      "text/plain": [
       "<Figure size 432x288 with 1 Axes>"
      ]
     },
     "metadata": {},
     "output_type": "display_data"
    }
   ],
   "source": [
    "\n",
    "important_test_bar = plt.bar(X_train.columns, importances)\n",
    "plt.xticks(rotation='vertical')\n"
   ]
  }
 ],
 "metadata": {
  "kernelspec": {
   "display_name": "Python [conda env:Anaconda3]",
   "language": "python",
   "name": "conda-env-Anaconda3-py"
  },
  "language_info": {
   "codemirror_mode": {
    "name": "ipython",
    "version": 3
   },
   "file_extension": ".py",
   "mimetype": "text/x-python",
   "name": "python",
   "nbconvert_exporter": "python",
   "pygments_lexer": "ipython3",
   "version": "3.6.5"
  }
 },
 "nbformat": 4,
 "nbformat_minor": 2
}
