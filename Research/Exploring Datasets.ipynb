{
 "cells": [
  {
   "cell_type": "code",
   "execution_count": 11,
   "metadata": {},
   "outputs": [],
   "source": [
    "# Dependencies\n",
    "import matplotlib.pyplot as plt\n",
    "import numpy as np\n",
    "import pandas as pd"
   ]
  },
  {
   "cell_type": "code",
   "execution_count": 12,
   "metadata": {},
   "outputs": [
    {
     "data": {
      "text/html": [
       "<div>\n",
       "<style scoped>\n",
       "    .dataframe tbody tr th:only-of-type {\n",
       "        vertical-align: middle;\n",
       "    }\n",
       "\n",
       "    .dataframe tbody tr th {\n",
       "        vertical-align: top;\n",
       "    }\n",
       "\n",
       "    .dataframe thead th {\n",
       "        text-align: right;\n",
       "    }\n",
       "</style>\n",
       "<table border=\"1\" class=\"dataframe\">\n",
       "  <thead>\n",
       "    <tr style=\"text-align: right;\">\n",
       "      <th></th>\n",
       "      <th>NPI</th>\n",
       "      <th>Ind_PAC_ID</th>\n",
       "      <th>lst_nm</th>\n",
       "      <th>frst_nm</th>\n",
       "      <th>measure_ID</th>\n",
       "      <th>measure_title</th>\n",
       "      <th>invs_msr</th>\n",
       "      <th>prf_rate</th>\n",
       "      <th>patient_count</th>\n",
       "      <th>collection_type</th>\n",
       "      <th>live_site_IND</th>\n",
       "    </tr>\n",
       "  </thead>\n",
       "  <tbody>\n",
       "    <tr>\n",
       "      <th>0</th>\n",
       "      <td>1508823618</td>\n",
       "      <td>42100117</td>\n",
       "      <td>GRIFFIN</td>\n",
       "      <td>DAVID</td>\n",
       "      <td>PQRS_EP_110_1</td>\n",
       "      <td>Preventive Care and Screening: Influenza Immun...</td>\n",
       "      <td>N</td>\n",
       "      <td>20</td>\n",
       "      <td>71</td>\n",
       "      <td>CLM</td>\n",
       "      <td>N</td>\n",
       "    </tr>\n",
       "    <tr>\n",
       "      <th>1</th>\n",
       "      <td>1508823618</td>\n",
       "      <td>42100117</td>\n",
       "      <td>GRIFFIN</td>\n",
       "      <td>DAVID</td>\n",
       "      <td>PQRS_EP_111_1</td>\n",
       "      <td>Pneumonia Vaccination Status for Older Adults</td>\n",
       "      <td>N</td>\n",
       "      <td>41</td>\n",
       "      <td>90</td>\n",
       "      <td>CLM</td>\n",
       "      <td>N</td>\n",
       "    </tr>\n",
       "    <tr>\n",
       "      <th>2</th>\n",
       "      <td>1508823618</td>\n",
       "      <td>42100117</td>\n",
       "      <td>GRIFFIN</td>\n",
       "      <td>DAVID</td>\n",
       "      <td>PQRS_EP_113_1</td>\n",
       "      <td>Colorectal Cancer Screening</td>\n",
       "      <td>N</td>\n",
       "      <td>29</td>\n",
       "      <td>70</td>\n",
       "      <td>CLM</td>\n",
       "      <td>N</td>\n",
       "    </tr>\n",
       "    <tr>\n",
       "      <th>3</th>\n",
       "      <td>1508823618</td>\n",
       "      <td>42100117</td>\n",
       "      <td>GRIFFIN</td>\n",
       "      <td>DAVID</td>\n",
       "      <td>PQRS_EP_130_1</td>\n",
       "      <td>Documentation of Current Medications in the Me...</td>\n",
       "      <td>N</td>\n",
       "      <td>91</td>\n",
       "      <td>255</td>\n",
       "      <td>CLM</td>\n",
       "      <td>N</td>\n",
       "    </tr>\n",
       "    <tr>\n",
       "      <th>4</th>\n",
       "      <td>1508823618</td>\n",
       "      <td>42100117</td>\n",
       "      <td>GRIFFIN</td>\n",
       "      <td>DAVID</td>\n",
       "      <td>PQRS_EP_226_1</td>\n",
       "      <td>Preventive Care and Screening: Tobacco Use: Sc...</td>\n",
       "      <td>N</td>\n",
       "      <td>98</td>\n",
       "      <td>104</td>\n",
       "      <td>CLM</td>\n",
       "      <td>N</td>\n",
       "    </tr>\n",
       "  </tbody>\n",
       "</table>\n",
       "</div>"
      ],
      "text/plain": [
       "          NPI   Ind_PAC_ID   lst_nm  frst_nm     measure_ID  \\\n",
       "0  1508823618     42100117  GRIFFIN    DAVID  PQRS_EP_110_1   \n",
       "1  1508823618     42100117  GRIFFIN    DAVID  PQRS_EP_111_1   \n",
       "2  1508823618     42100117  GRIFFIN    DAVID  PQRS_EP_113_1   \n",
       "3  1508823618     42100117  GRIFFIN    DAVID  PQRS_EP_130_1   \n",
       "4  1508823618     42100117  GRIFFIN    DAVID  PQRS_EP_226_1   \n",
       "\n",
       "                                       measure_title  invs_msr  prf_rate  \\\n",
       "0  Preventive Care and Screening: Influenza Immun...         N        20   \n",
       "1      Pneumonia Vaccination Status for Older Adults         N        41   \n",
       "2                        Colorectal Cancer Screening         N        29   \n",
       "3  Documentation of Current Medications in the Me...         N        91   \n",
       "4  Preventive Care and Screening: Tobacco Use: Sc...         N        98   \n",
       "\n",
       "   patient_count  collection_type  live_site_IND  \n",
       "0             71              CLM              N  \n",
       "1             90              CLM              N  \n",
       "2             70              CLM              N  \n",
       "3            255              CLM              N  \n",
       "4            104              CLM              N  "
      ]
     },
     "execution_count": 12,
     "metadata": {},
     "output_type": "execute_result"
    }
   ],
   "source": [
    "# read csv file\n",
    "pqrs_ind_file = \"./Physician Quality Reporting System (PQRS) Individual.csv\"\n",
    "pqrs_ind_df = pd.read_csv(pqrs_ind_file)\n",
    "pqrs_ind_df.head()"
   ]
  },
  {
   "cell_type": "code",
   "execution_count": 14,
   "metadata": {},
   "outputs": [
    {
     "data": {
      "text/plain": [
       "<matplotlib.collections.PathCollection at 0x14639b7f470>"
      ]
     },
     "execution_count": 14,
     "metadata": {},
     "output_type": "execute_result"
    },
    {
     "data": {
      "image/png": "[encoded data removed]",
      "text/plain": [
       "<Figure size 432x288 with 1 Axes>"
      ]
     },
     "metadata": {},
     "output_type": "display_data"
    }
   ],
   "source": [
    "# Scatter Plot\n",
    "plt.scatter(pqrs_ind_df[\"patient_count\"], pqrs_ind_df[\"prf_rate\"])"
   ]
  },
  {
   "cell_type": "code",
   "execution_count": 15,
   "metadata": {},
   "outputs": [
    {
     "data": {
      "text/html": [
       "<div>\n",
       "<style scoped>\n",
       "    .dataframe tbody tr th:only-of-type {\n",
       "        vertical-align: middle;\n",
       "    }\n",
       "\n",
       "    .dataframe tbody tr th {\n",
       "        vertical-align: top;\n",
       "    }\n",
       "\n",
       "    .dataframe thead th {\n",
       "        text-align: right;\n",
       "    }\n",
       "</style>\n",
       "<table border=\"1\" class=\"dataframe\">\n",
       "  <thead>\n",
       "    <tr style=\"text-align: right;\">\n",
       "      <th></th>\n",
       "      <th>country</th>\n",
       "      <th>year</th>\n",
       "      <th>sex</th>\n",
       "      <th>age</th>\n",
       "      <th>suicides_no</th>\n",
       "      <th>population</th>\n",
       "      <th>suicides/100k pop</th>\n",
       "      <th>country-year</th>\n",
       "      <th>HDI for year</th>\n",
       "      <th>gdp_for_year ($)</th>\n",
       "      <th>gdp_per_capita ($)</th>\n",
       "      <th>generation</th>\n",
       "    </tr>\n",
       "  </thead>\n",
       "  <tbody>\n",
       "    <tr>\n",
       "      <th>0</th>\n",
       "      <td>Albania</td>\n",
       "      <td>1987</td>\n",
       "      <td>male</td>\n",
       "      <td>15-24 years</td>\n",
       "      <td>21</td>\n",
       "      <td>312900</td>\n",
       "      <td>6.71</td>\n",
       "      <td>Albania1987</td>\n",
       "      <td>NaN</td>\n",
       "      <td>2,156,624,900</td>\n",
       "      <td>796</td>\n",
       "      <td>Generation X</td>\n",
       "    </tr>\n",
       "    <tr>\n",
       "      <th>1</th>\n",
       "      <td>Albania</td>\n",
       "      <td>1987</td>\n",
       "      <td>male</td>\n",
       "      <td>35-54 years</td>\n",
       "      <td>16</td>\n",
       "      <td>308000</td>\n",
       "      <td>5.19</td>\n",
       "      <td>Albania1987</td>\n",
       "      <td>NaN</td>\n",
       "      <td>2,156,624,900</td>\n",
       "      <td>796</td>\n",
       "      <td>Silent</td>\n",
       "    </tr>\n",
       "    <tr>\n",
       "      <th>2</th>\n",
       "      <td>Albania</td>\n",
       "      <td>1987</td>\n",
       "      <td>female</td>\n",
       "      <td>15-24 years</td>\n",
       "      <td>14</td>\n",
       "      <td>289700</td>\n",
       "      <td>4.83</td>\n",
       "      <td>Albania1987</td>\n",
       "      <td>NaN</td>\n",
       "      <td>2,156,624,900</td>\n",
       "      <td>796</td>\n",
       "      <td>Generation X</td>\n",
       "    </tr>\n",
       "    <tr>\n",
       "      <th>3</th>\n",
       "      <td>Albania</td>\n",
       "      <td>1987</td>\n",
       "      <td>male</td>\n",
       "      <td>75+ years</td>\n",
       "      <td>1</td>\n",
       "      <td>21800</td>\n",
       "      <td>4.59</td>\n",
       "      <td>Albania1987</td>\n",
       "      <td>NaN</td>\n",
       "      <td>2,156,624,900</td>\n",
       "      <td>796</td>\n",
       "      <td>G.I. Generation</td>\n",
       "    </tr>\n",
       "    <tr>\n",
       "      <th>4</th>\n",
       "      <td>Albania</td>\n",
       "      <td>1987</td>\n",
       "      <td>male</td>\n",
       "      <td>25-34 years</td>\n",
       "      <td>9</td>\n",
       "      <td>274300</td>\n",
       "      <td>3.28</td>\n",
       "      <td>Albania1987</td>\n",
       "      <td>NaN</td>\n",
       "      <td>2,156,624,900</td>\n",
       "      <td>796</td>\n",
       "      <td>Boomers</td>\n",
       "    </tr>\n",
       "  </tbody>\n",
       "</table>\n",
       "</div>"
      ],
      "text/plain": [
       "   country  year     sex          age  suicides_no  population  \\\n",
       "0  Albania  1987    male  15-24 years           21      312900   \n",
       "1  Albania  1987    male  35-54 years           16      308000   \n",
       "2  Albania  1987  female  15-24 years           14      289700   \n",
       "3  Albania  1987    male    75+ years            1       21800   \n",
       "4  Albania  1987    male  25-34 years            9      274300   \n",
       "\n",
       "   suicides/100k pop country-year  HDI for year  gdp_for_year ($)   \\\n",
       "0               6.71  Albania1987           NaN      2,156,624,900   \n",
       "1               5.19  Albania1987           NaN      2,156,624,900   \n",
       "2               4.83  Albania1987           NaN      2,156,624,900   \n",
       "3               4.59  Albania1987           NaN      2,156,624,900   \n",
       "4               3.28  Albania1987           NaN      2,156,624,900   \n",
       "\n",
       "   gdp_per_capita ($)       generation  \n",
       "0                 796     Generation X  \n",
       "1                 796           Silent  \n",
       "2                 796     Generation X  \n",
       "3                 796  G.I. Generation  \n",
       "4                 796          Boomers  "
      ]
     },
     "execution_count": 15,
     "metadata": {},
     "output_type": "execute_result"
    }
   ],
   "source": [
    "# read csv file\n",
    "suicide_file = \"./Suicide Dataset.csv\"\n",
    "suicide_df = pd.read_csv(suicide_file)\n",
    "suicide_df.head()"
   ]
  },
  {
   "cell_type": "code",
   "execution_count": 16,
   "metadata": {},
   "outputs": [
    {
     "data": {
      "text/plain": [
       "<matplotlib.collections.PathCollection at 0x14639bf2320>"
      ]
     },
     "execution_count": 16,
     "metadata": {},
     "output_type": "execute_result"
    },
    {
     "data": {
      "image/png": "[encoded data removed]",
      "text/plain": [
       "<Figure size 432x288 with 1 Axes>"
      ]
     },
     "metadata": {},
     "output_type": "display_data"
    }
   ],
   "source": [
    "# Scatter Plot\n",
    "plt.scatter(suicide_df[\"suicides/100k pop\"], suicide_df[\"gdp_per_capita ($)\"])"
   ]
  },
  {
   "cell_type": "code",
   "execution_count": null,
   "metadata": {},
   "outputs": [],
   "source": []
  }
 ],
 "metadata": {
  "kernelspec": {
   "display_name": "Python [conda env:Anaconda3]",
   "language": "python",
   "name": "conda-env-Anaconda3-py"
  },
  "language_info": {
   "codemirror_mode": {
    "name": "ipython",
    "version": 3
   },
   "file_extension": ".py",
   "mimetype": "text/x-python",
   "name": "python",
   "nbconvert_exporter": "python",
   "pygments_lexer": "ipython3",
   "version": "3.6.5"
  }
 },
 "nbformat": 4,
 "nbformat_minor": 2
}
