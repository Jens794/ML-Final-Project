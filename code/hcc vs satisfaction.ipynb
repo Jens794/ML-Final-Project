{
 "cells": [
  {
   "cell_type": "code",
   "execution_count": 1,
   "metadata": {},
   "outputs": [],
   "source": [
    "import pandas as pd\n",
    "import numpy as np\n",
    "\n",
    "from sklearn.model_selection import train_test_split\n"
   ]
  },
  {
   "cell_type": "code",
   "execution_count": 2,
   "metadata": {},
   "outputs": [
    {
     "data": {
      "text/html": [
       "<div>\n",
       "<style scoped>\n",
       "    .dataframe tbody tr th:only-of-type {\n",
       "        vertical-align: middle;\n",
       "    }\n",
       "\n",
       "    .dataframe tbody tr th {\n",
       "        vertical-align: top;\n",
       "    }\n",
       "\n",
       "    .dataframe thead th {\n",
       "        text-align: right;\n",
       "    }\n",
       "</style>\n",
       "<table border=\"1\" class=\"dataframe\">\n",
       "  <thead>\n",
       "    <tr style=\"text-align: right;\">\n",
       "      <th></th>\n",
       "      <th>Unnamed: 0</th>\n",
       "      <th>Unnamed: 0.1</th>\n",
       "      <th>Year</th>\n",
       "      <th>Provider ID</th>\n",
       "      <th>Agency Name</th>\n",
       "      <th>Street Address</th>\n",
       "      <th>City</th>\n",
       "      <th>State</th>\n",
       "      <th>Zip Code</th>\n",
       "      <th>Total Episodes (non-LUPA)</th>\n",
       "      <th>...</th>\n",
       "      <th>Percent of Beneficiaries with Diabetes</th>\n",
       "      <th>Percent of Beneficiaries with Hyperlipidemia</th>\n",
       "      <th>Percent of Beneficiaries with IHD</th>\n",
       "      <th>Percent of Beneficiaries with Osteoporosis</th>\n",
       "      <th>Percent of Beneficiaries with RA/OA</th>\n",
       "      <th>Percent of Beneficiaries with Schizophrenia</th>\n",
       "      <th>Percent of Beneficiaries with Stroke</th>\n",
       "      <th>risk_categorical</th>\n",
       "      <th>CMS Certification Number (CCN)</th>\n",
       "      <th>Star Rating for how patients rated overall care from agency</th>\n",
       "    </tr>\n",
       "  </thead>\n",
       "  <tbody>\n",
       "    <tr>\n",
       "      <th>0</th>\n",
       "      <td>0</td>\n",
       "      <td>1</td>\n",
       "      <td>2016</td>\n",
       "      <td>17009</td>\n",
       "      <td>0</td>\n",
       "      <td>0</td>\n",
       "      <td>BIRMINGHAM</td>\n",
       "      <td>AL</td>\n",
       "      <td>35216</td>\n",
       "      <td>12879</td>\n",
       "      <td>...</td>\n",
       "      <td>0.4512</td>\n",
       "      <td>0.6743</td>\n",
       "      <td>0.5644</td>\n",
       "      <td>0.1329</td>\n",
       "      <td>0.6463</td>\n",
       "      <td>0.0523</td>\n",
       "      <td>0.1276</td>\n",
       "      <td>2</td>\n",
       "      <td>17009</td>\n",
       "      <td>4</td>\n",
       "    </tr>\n",
       "    <tr>\n",
       "      <th>1</th>\n",
       "      <td>1</td>\n",
       "      <td>10140</td>\n",
       "      <td>2015</td>\n",
       "      <td>17009</td>\n",
       "      <td>0</td>\n",
       "      <td>0</td>\n",
       "      <td>BIRMINGHAM</td>\n",
       "      <td>AL</td>\n",
       "      <td>35216</td>\n",
       "      <td>12948</td>\n",
       "      <td>...</td>\n",
       "      <td>0.4600</td>\n",
       "      <td>0.6400</td>\n",
       "      <td>0.5700</td>\n",
       "      <td>0.1400</td>\n",
       "      <td>0.6100</td>\n",
       "      <td>0.0800</td>\n",
       "      <td>0.1300</td>\n",
       "      <td>2</td>\n",
       "      <td>17009</td>\n",
       "      <td>4</td>\n",
       "    </tr>\n",
       "    <tr>\n",
       "      <th>2</th>\n",
       "      <td>2</td>\n",
       "      <td>20666</td>\n",
       "      <td>2014</td>\n",
       "      <td>17009</td>\n",
       "      <td>0</td>\n",
       "      <td>0</td>\n",
       "      <td>BIRMINGHAM</td>\n",
       "      <td>AL</td>\n",
       "      <td>35216</td>\n",
       "      <td>11823</td>\n",
       "      <td>...</td>\n",
       "      <td>0.4500</td>\n",
       "      <td>0.6300</td>\n",
       "      <td>0.5700</td>\n",
       "      <td>0.1500</td>\n",
       "      <td>0.6100</td>\n",
       "      <td>0.0900</td>\n",
       "      <td>0.1300</td>\n",
       "      <td>2</td>\n",
       "      <td>17009</td>\n",
       "      <td>4</td>\n",
       "    </tr>\n",
       "    <tr>\n",
       "      <th>3</th>\n",
       "      <td>3</td>\n",
       "      <td>31533</td>\n",
       "      <td>2013</td>\n",
       "      <td>17009</td>\n",
       "      <td>0</td>\n",
       "      <td>0</td>\n",
       "      <td>BIRMINGHAM</td>\n",
       "      <td>AL</td>\n",
       "      <td>35216</td>\n",
       "      <td>12012</td>\n",
       "      <td>...</td>\n",
       "      <td>0.4500</td>\n",
       "      <td>0.6200</td>\n",
       "      <td>0.5700</td>\n",
       "      <td>0.1500</td>\n",
       "      <td>0.5900</td>\n",
       "      <td>0.0900</td>\n",
       "      <td>0.1400</td>\n",
       "      <td>2</td>\n",
       "      <td>17009</td>\n",
       "      <td>4</td>\n",
       "    </tr>\n",
       "    <tr>\n",
       "      <th>4</th>\n",
       "      <td>4</td>\n",
       "      <td>2</td>\n",
       "      <td>2016</td>\n",
       "      <td>17013</td>\n",
       "      <td>0</td>\n",
       "      <td>0</td>\n",
       "      <td>ENTERPRISE</td>\n",
       "      <td>AL</td>\n",
       "      <td>36330</td>\n",
       "      <td>1236</td>\n",
       "      <td>...</td>\n",
       "      <td>0.4526</td>\n",
       "      <td>0.6618</td>\n",
       "      <td>0.5114</td>\n",
       "      <td>0.1650</td>\n",
       "      <td>0.6716</td>\n",
       "      <td>0.0523</td>\n",
       "      <td>0.1275</td>\n",
       "      <td>2</td>\n",
       "      <td>17013</td>\n",
       "      <td>4</td>\n",
       "    </tr>\n",
       "  </tbody>\n",
       "</table>\n",
       "<p>5 rows × 49 columns</p>\n",
       "</div>"
      ],
      "text/plain": [
       "   Unnamed: 0  Unnamed: 0.1  Year  Provider ID Agency Name  Street Address  \\\n",
       "0           0             1  2016        17009           0               0   \n",
       "1           1         10140  2015        17009           0               0   \n",
       "2           2         20666  2014        17009           0               0   \n",
       "3           3         31533  2013        17009           0               0   \n",
       "4           4             2  2016        17013           0               0   \n",
       "\n",
       "         City State  Zip Code  Total Episodes (non-LUPA)  \\\n",
       "0  BIRMINGHAM    AL     35216                      12879   \n",
       "1  BIRMINGHAM    AL     35216                      12948   \n",
       "2  BIRMINGHAM    AL     35216                      11823   \n",
       "3  BIRMINGHAM    AL     35216                      12012   \n",
       "4  ENTERPRISE    AL     36330                       1236   \n",
       "\n",
       "                              ...                               \\\n",
       "0                             ...                                \n",
       "1                             ...                                \n",
       "2                             ...                                \n",
       "3                             ...                                \n",
       "4                             ...                                \n",
       "\n",
       "    Percent of Beneficiaries with Diabetes   \\\n",
       "0                                    0.4512   \n",
       "1                                    0.4600   \n",
       "2                                    0.4500   \n",
       "3                                    0.4500   \n",
       "4                                    0.4526   \n",
       "\n",
       "    Percent of Beneficiaries with Hyperlipidemia   \\\n",
       "0                                          0.6743   \n",
       "1                                          0.6400   \n",
       "2                                          0.6300   \n",
       "3                                          0.6200   \n",
       "4                                          0.6618   \n",
       "\n",
       "    Percent of Beneficiaries with IHD   \\\n",
       "0                               0.5644   \n",
       "1                               0.5700   \n",
       "2                               0.5700   \n",
       "3                               0.5700   \n",
       "4                               0.5114   \n",
       "\n",
       "    Percent of Beneficiaries with Osteoporosis   \\\n",
       "0                                        0.1329   \n",
       "1                                        0.1400   \n",
       "2                                        0.1500   \n",
       "3                                        0.1500   \n",
       "4                                        0.1650   \n",
       "\n",
       "    Percent of Beneficiaries with RA/OA   \\\n",
       "0                                 0.6463   \n",
       "1                                 0.6100   \n",
       "2                                 0.6100   \n",
       "3                                 0.5900   \n",
       "4                                 0.6716   \n",
       "\n",
       "    Percent of Beneficiaries with Schizophrenia   \\\n",
       "0                                         0.0523   \n",
       "1                                         0.0800   \n",
       "2                                         0.0900   \n",
       "3                                         0.0900   \n",
       "4                                         0.0523   \n",
       "\n",
       "    Percent of Beneficiaries with Stroke   risk_categorical  \\\n",
       "0                                  0.1276                 2   \n",
       "1                                  0.1300                 2   \n",
       "2                                  0.1300                 2   \n",
       "3                                  0.1400                 2   \n",
       "4                                  0.1275                 2   \n",
       "\n",
       "   CMS Certification Number (CCN)  \\\n",
       "0                           17009   \n",
       "1                           17009   \n",
       "2                           17009   \n",
       "3                           17009   \n",
       "4                           17013   \n",
       "\n",
       "   Star Rating for how patients rated overall care from agency  \n",
       "0                                                  4            \n",
       "1                                                  4            \n",
       "2                                                  4            \n",
       "3                                                  4            \n",
       "4                                                  4            \n",
       "\n",
       "[5 rows x 49 columns]"
      ]
     },
     "execution_count": 2,
     "metadata": {},
     "output_type": "execute_result"
    }
   ],
   "source": [
    "newCleanerSurveyFile='../datasets/new_hh_clean_w_survey.csv'\n",
    "cleanSurvey_df=pd.read_csv(newCleanerSurveyFile)\n",
    "cleanSurvey_df.head()"
   ]
  },
  {
   "cell_type": "code",
   "execution_count": 6,
   "metadata": {},
   "outputs": [
    {
     "data": {
      "text/plain": [
       "Unnamed: 0      21508\n",
       "Unnamed: 0.1    21508\n",
       "Year            21508\n",
       "Provider ID     21508\n",
       "Agency Name     21508\n",
       "dtype: int64"
      ]
     },
     "execution_count": 6,
     "metadata": {},
     "output_type": "execute_result"
    }
   ],
   "source": [
    "cleanSurvey_df.count().head()"
   ]
  },
  {
   "cell_type": "code",
   "execution_count": 18,
   "metadata": {},
   "outputs": [
    {
     "data": {
      "text/plain": [
       "<matplotlib.axes._subplots.AxesSubplot at 0x2ca096417b8>"
      ]
     },
     "execution_count": 18,
     "metadata": {},
     "output_type": "execute_result"
    },
    {
     "data": {
      "image/png": "[encoded data removed]",
      "text/plain": [
       "<Figure size 432x288 with 1 Axes>"
      ]
     },
     "metadata": {},
     "output_type": "display_data"
    }
   ],
   "source": [
    "cleanSurvey_df['Star Rating for how patients rated overall care from agency'].hist(bins=5)"
   ]
  },
  {
   "cell_type": "code",
   "execution_count": 19,
   "metadata": {},
   "outputs": [
    {
     "data": {
      "text/plain": [
       "count    21508.000000\n",
       "mean         3.256974\n",
       "std          0.967859\n",
       "min          1.000000\n",
       "25%          3.000000\n",
       "50%          3.000000\n",
       "75%          4.000000\n",
       "max          5.000000\n",
       "Name: Star Rating for how patients rated overall care from agency, dtype: float64"
      ]
     },
     "execution_count": 19,
     "metadata": {},
     "output_type": "execute_result"
    }
   ],
   "source": [
    "cleanSurvey_df['Star Rating for how patients rated overall care from agency'].describe()"
   ]
  },
  {
   "cell_type": "code",
   "execution_count": 13,
   "metadata": {},
   "outputs": [
    {
     "data": {
      "text/plain": [
       "<matplotlib.axes._subplots.AxesSubplot at 0x2ca0905b828>"
      ]
     },
     "execution_count": 13,
     "metadata": {},
     "output_type": "execute_result"
    },
    {
     "data": {
      "image/png": "[encoded data removed]",
      "text/plain": [
       "<Figure size 432x288 with 1 Axes>"
      ]
     },
     "metadata": {},
     "output_type": "display_data"
    }
   ],
   "source": [
    "cleanSurvey_df['Average HCC Score'].hist(bins=20)"
   ]
  },
  {
   "cell_type": "code",
   "execution_count": 20,
   "metadata": {},
   "outputs": [
    {
     "data": {
      "text/plain": [
       "count    21508.000000\n",
       "mean         2.186107\n",
       "std          0.349181\n",
       "min          0.810000\n",
       "25%          1.960000\n",
       "50%          2.160000\n",
       "75%          2.380000\n",
       "max          5.070000\n",
       "Name: Average HCC Score, dtype: float64"
      ]
     },
     "execution_count": 20,
     "metadata": {},
     "output_type": "execute_result"
    }
   ],
   "source": [
    "cleanSurvey_df['Average HCC Score'].describe()"
   ]
  },
  {
   "cell_type": "code",
   "execution_count": 54,
   "metadata": {},
   "outputs": [],
   "source": [
    "theHCC =cleanSurvey_df['Average HCC Score']\n",
    "satisfaction=cleanSurvey_df['Star Rating for how patients rated overall care from agency'].values.reshape(-1,1)"
   ]
  },
  {
   "cell_type": "code",
   "execution_count": 55,
   "metadata": {},
   "outputs": [
    {
     "name": "stdout",
     "output_type": "stream",
     "text": [
      "Training set has 17206 samples.\n",
      "Testing set has 4302 samples\n"
     ]
    }
   ],
   "source": [
    "from sklearn.model_selection import train_test_split\n",
    "X_train, X_test, y_train, y_test=train_test_split(\n",
    "    satisfaction,\n",
    "    theHCC,\n",
    "    test_size=0.2,\n",
    "    random_state=1\n",
    ")\n",
    "print('Training set has {} samples.'.format(X_train.shape[0]))\n",
    "print('Testing set has {} samples'.format(X_test.shape[0]))"
   ]
  },
  {
   "cell_type": "code",
   "execution_count": 56,
   "metadata": {},
   "outputs": [
    {
     "name": "stderr",
     "output_type": "stream",
     "text": [
      "C:\\ProgramData\\Anaconda3\\lib\\site-packages\\sklearn\\utils\\validation.py:475: DataConversionWarning: Data with input dtype int64 was converted to float64 by StandardScaler.\n",
      "  warnings.warn(msg, DataConversionWarning)\n"
     ]
    }
   ],
   "source": [
    "from sklearn.preprocessing import StandardScaler\n",
    "X_scaler = StandardScaler().fit(X_train)"
   ]
  },
  {
   "cell_type": "code",
   "execution_count": 64,
   "metadata": {},
   "outputs": [
    {
     "name": "stderr",
     "output_type": "stream",
     "text": [
      "C:\\ProgramData\\Anaconda3\\lib\\site-packages\\sklearn\\utils\\validation.py:475: DataConversionWarning: Data with input dtype int64 was converted to float64 by StandardScaler.\n",
      "  warnings.warn(msg, DataConversionWarning)\n"
     ]
    }
   ],
   "source": [
    "X_train_scaled = X_scaler.transform(X_train)\n",
    "X_test_scaled = X_scaler.transform(X_test)"
   ]
  },
  {
   "cell_type": "code",
   "execution_count": 65,
   "metadata": {},
   "outputs": [],
   "source": [
    "from keras.models import Sequential\n",
    "model = Sequential()"
   ]
  },
  {
   "cell_type": "code",
   "execution_count": 66,
   "metadata": {},
   "outputs": [],
   "source": [
    "from keras.layers import Dense\n",
    "model.add(Dense(units=6,activation='relu',input_dim=1))\n",
    "model.add(Dense(units=6,activation='relu'))"
   ]
  },
  {
   "cell_type": "code",
   "execution_count": 67,
   "metadata": {},
   "outputs": [],
   "source": [
    "model.add(Dense(units=1,activation='linear'))"
   ]
  },
  {
   "cell_type": "code",
   "execution_count": 68,
   "metadata": {},
   "outputs": [
    {
     "name": "stdout",
     "output_type": "stream",
     "text": [
      "_________________________________________________________________\n",
      "Layer (type)                 Output Shape              Param #   \n",
      "=================================================================\n",
      "dense_7 (Dense)              (None, 6)                 12        \n",
      "_________________________________________________________________\n",
      "dense_8 (Dense)              (None, 6)                 42        \n",
      "_________________________________________________________________\n",
      "dense_9 (Dense)              (None, 1)                 7         \n",
      "=================================================================\n",
      "Total params: 61\n",
      "Trainable params: 61\n",
      "Non-trainable params: 0\n",
      "_________________________________________________________________\n"
     ]
    }
   ],
   "source": [
    "model.summary()"
   ]
  },
  {
   "cell_type": "code",
   "execution_count": 69,
   "metadata": {},
   "outputs": [],
   "source": [
    "model.compile(optimizer='adam', loss='mse')"
   ]
  },
  {
   "cell_type": "code",
   "execution_count": 70,
   "metadata": {},
   "outputs": [
    {
     "name": "stdout",
     "output_type": "stream",
     "text": [
      "Epoch 1/100\n",
      " - 1s - loss: 1.5491\n",
      "Epoch 2/100\n",
      " - 0s - loss: 0.1498\n",
      "Epoch 3/100\n",
      " - 0s - loss: 0.1215\n",
      "Epoch 4/100\n",
      " - 0s - loss: 0.1202\n",
      "Epoch 5/100\n",
      " - 0s - loss: 0.1196\n",
      "Epoch 6/100\n",
      " - 0s - loss: 0.1193\n",
      "Epoch 7/100\n",
      " - 0s - loss: 0.1190\n",
      "Epoch 8/100\n",
      " - 0s - loss: 0.1189\n",
      "Epoch 9/100\n",
      " - 0s - loss: 0.1188\n",
      "Epoch 10/100\n",
      " - 0s - loss: 0.1188\n",
      "Epoch 11/100\n",
      " - 0s - loss: 0.1188\n",
      "Epoch 12/100\n",
      " - 0s - loss: 0.1188\n",
      "Epoch 13/100\n",
      " - 0s - loss: 0.1188\n",
      "Epoch 14/100\n",
      " - 0s - loss: 0.1188\n",
      "Epoch 15/100\n",
      " - 0s - loss: 0.1189\n",
      "Epoch 16/100\n",
      " - 0s - loss: 0.1189\n",
      "Epoch 17/100\n",
      " - 0s - loss: 0.1188\n",
      "Epoch 18/100\n",
      " - 0s - loss: 0.1187\n",
      "Epoch 19/100\n",
      " - 0s - loss: 0.1189\n",
      "Epoch 20/100\n",
      " - 0s - loss: 0.1190\n",
      "Epoch 21/100\n",
      " - 0s - loss: 0.1189\n",
      "Epoch 22/100\n",
      " - 0s - loss: 0.1188\n",
      "Epoch 23/100\n",
      " - 0s - loss: 0.1188\n",
      "Epoch 24/100\n",
      " - 0s - loss: 0.1188\n",
      "Epoch 25/100\n",
      " - 0s - loss: 0.1188\n",
      "Epoch 26/100\n",
      " - 0s - loss: 0.1190\n",
      "Epoch 27/100\n",
      " - 0s - loss: 0.1187\n",
      "Epoch 28/100\n",
      " - 0s - loss: 0.1190\n",
      "Epoch 29/100\n",
      " - 0s - loss: 0.1188\n",
      "Epoch 30/100\n",
      " - 0s - loss: 0.1190\n",
      "Epoch 31/100\n",
      " - 0s - loss: 0.1188\n",
      "Epoch 32/100\n",
      " - 0s - loss: 0.1187\n",
      "Epoch 33/100\n",
      " - 0s - loss: 0.1188\n",
      "Epoch 34/100\n",
      " - 0s - loss: 0.1188\n",
      "Epoch 35/100\n",
      " - 0s - loss: 0.1188\n",
      "Epoch 36/100\n",
      " - 0s - loss: 0.1189\n",
      "Epoch 37/100\n",
      " - 0s - loss: 0.1188\n",
      "Epoch 38/100\n",
      " - 0s - loss: 0.1188\n",
      "Epoch 39/100\n",
      " - 0s - loss: 0.1188\n",
      "Epoch 40/100\n",
      " - 0s - loss: 0.1190\n",
      "Epoch 41/100\n",
      " - 0s - loss: 0.1188\n",
      "Epoch 42/100\n",
      " - 0s - loss: 0.1188\n",
      "Epoch 43/100\n",
      " - 0s - loss: 0.1190\n",
      "Epoch 44/100\n",
      " - 0s - loss: 0.1188\n",
      "Epoch 45/100\n",
      " - 0s - loss: 0.1187\n",
      "Epoch 46/100\n",
      " - 0s - loss: 0.1187\n",
      "Epoch 47/100\n",
      " - 0s - loss: 0.1189\n",
      "Epoch 48/100\n",
      " - 0s - loss: 0.1189\n",
      "Epoch 49/100\n",
      " - 0s - loss: 0.1189\n",
      "Epoch 50/100\n",
      " - 0s - loss: 0.1189\n",
      "Epoch 51/100\n",
      " - 0s - loss: 0.1189\n",
      "Epoch 52/100\n",
      " - 0s - loss: 0.1189\n",
      "Epoch 53/100\n",
      " - 0s - loss: 0.1189\n",
      "Epoch 54/100\n",
      " - 0s - loss: 0.1188\n",
      "Epoch 55/100\n",
      " - 0s - loss: 0.1188\n",
      "Epoch 56/100\n",
      " - 0s - loss: 0.1187\n",
      "Epoch 57/100\n",
      " - 0s - loss: 0.1190\n",
      "Epoch 58/100\n",
      " - 0s - loss: 0.1188\n",
      "Epoch 59/100\n",
      " - 0s - loss: 0.1188\n",
      "Epoch 60/100\n",
      " - 0s - loss: 0.1187\n",
      "Epoch 61/100\n",
      " - 0s - loss: 0.1189\n",
      "Epoch 62/100\n",
      " - 0s - loss: 0.1188\n",
      "Epoch 63/100\n",
      " - 0s - loss: 0.1188\n",
      "Epoch 64/100\n",
      " - 0s - loss: 0.1189\n",
      "Epoch 65/100\n",
      " - 0s - loss: 0.1189\n",
      "Epoch 66/100\n",
      " - 0s - loss: 0.1188\n",
      "Epoch 67/100\n",
      " - 0s - loss: 0.1187\n",
      "Epoch 68/100\n",
      " - 0s - loss: 0.1187\n",
      "Epoch 69/100\n",
      " - 0s - loss: 0.1188\n",
      "Epoch 70/100\n",
      " - 0s - loss: 0.1188\n",
      "Epoch 71/100\n",
      " - 0s - loss: 0.1189\n",
      "Epoch 72/100\n",
      " - 0s - loss: 0.1188\n",
      "Epoch 73/100\n",
      " - 0s - loss: 0.1187\n",
      "Epoch 74/100\n",
      " - 0s - loss: 0.1189\n",
      "Epoch 75/100\n",
      " - 0s - loss: 0.1187\n",
      "Epoch 76/100\n",
      " - 0s - loss: 0.1187\n",
      "Epoch 77/100\n",
      " - 0s - loss: 0.1186\n",
      "Epoch 78/100\n",
      " - 0s - loss: 0.1188\n",
      "Epoch 79/100\n",
      " - 0s - loss: 0.1188\n",
      "Epoch 80/100\n",
      " - 0s - loss: 0.1189\n",
      "Epoch 81/100\n",
      " - 0s - loss: 0.1188\n",
      "Epoch 82/100\n",
      " - 0s - loss: 0.1188\n",
      "Epoch 83/100\n",
      " - 0s - loss: 0.1189\n",
      "Epoch 84/100\n",
      " - 0s - loss: 0.1188\n",
      "Epoch 85/100\n",
      " - 0s - loss: 0.1187\n",
      "Epoch 86/100\n",
      " - 0s - loss: 0.1188\n",
      "Epoch 87/100\n",
      " - 0s - loss: 0.1188\n",
      "Epoch 88/100\n",
      " - 0s - loss: 0.1189\n",
      "Epoch 89/100\n",
      " - 0s - loss: 0.1189\n",
      "Epoch 90/100\n",
      " - 0s - loss: 0.1188\n",
      "Epoch 91/100\n",
      " - 0s - loss: 0.1188\n",
      "Epoch 92/100\n",
      " - 0s - loss: 0.1189\n",
      "Epoch 93/100\n",
      " - 0s - loss: 0.1190\n",
      "Epoch 94/100\n",
      " - 0s - loss: 0.1188\n",
      "Epoch 95/100\n",
      " - 0s - loss: 0.1188\n",
      "Epoch 96/100\n",
      " - 0s - loss: 0.1188\n",
      "Epoch 97/100\n",
      " - 0s - loss: 0.1188\n",
      "Epoch 98/100\n",
      " - 0s - loss: 0.1188\n",
      "Epoch 99/100\n",
      " - 0s - loss: 0.1188\n",
      "Epoch 100/100\n",
      " - 0s - loss: 0.1190\n"
     ]
    },
    {
     "data": {
      "text/plain": [
       "<keras.callbacks.History at 0x2ca10c667f0>"
      ]
     },
     "execution_count": 70,
     "metadata": {},
     "output_type": "execute_result"
    }
   ],
   "source": [
    "model.fit(\n",
    "    X_train_scaled,\n",
    "    y_train,\n",
    "    epochs=100,\n",
    "    shuffle=True,\n",
    "    verbose=2\n",
    ")"
   ]
  },
  {
   "cell_type": "code",
   "execution_count": 71,
   "metadata": {},
   "outputs": [
    {
     "name": "stdout",
     "output_type": "stream",
     "text": [
      "Loss: 0.11599099435871671\n"
     ]
    }
   ],
   "source": [
    "model_loss =model.evaluate(\n",
    "    X_test_scaled,\n",
    "    y_test,\n",
    "    verbose=2\n",
    ")\n",
    "print(f'Loss: {model_loss}')"
   ]
  },
  {
   "cell_type": "code",
   "execution_count": 85,
   "metadata": {},
   "outputs": [
    {
     "data": {
      "image/png": "[encoded data removed]",
      "text/plain": [
       "<Figure size 432x288 with 1 Axes>"
      ]
     },
     "metadata": {},
     "output_type": "display_data"
    }
   ],
   "source": [
    "import matplotlib.pyplot as plt\n",
    "%matplotlib inline\n",
    "plt.scatter(y_test,model.predict(X_test_scaled))\n",
    "plt.ylim=(0,5)"
   ]
  },
  {
   "cell_type": "code",
   "execution_count": null,
   "metadata": {},
   "outputs": [],
   "source": []
  }
 ],
 "metadata": {
  "kernelspec": {
   "display_name": "Python [conda env:Anaconda3]",
   "language": "python",
   "name": "conda-env-Anaconda3-py"
  },
  "language_info": {
   "codemirror_mode": {
    "name": "ipython",
    "version": 3
   },
   "file_extension": ".py",
   "mimetype": "text/x-python",
   "name": "python",
   "nbconvert_exporter": "python",
   "pygments_lexer": "ipython3",
   "version": "3.6.5"
  }
 },
 "nbformat": 4,
 "nbformat_minor": 2
}
