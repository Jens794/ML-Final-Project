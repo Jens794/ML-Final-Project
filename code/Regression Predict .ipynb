{
 "cells": [
  {
   "cell_type": "code",
   "execution_count": 1,
   "metadata": {},
   "outputs": [],
   "source": [
    "import pandas as pd\n",
    "from sklearn.model_selection import train_test_split\n",
    "import numpy as np"
   ]
  },
  {
   "cell_type": "code",
   "execution_count": 33,
   "metadata": {},
   "outputs": [
    {
     "data": {
      "text/plain": [
       "Unnamed: 0                                                             41426\n",
       "Year                                                                   41426\n",
       "Provider ID                                                            41426\n",
       "Agency Name                                                            41426\n",
       "Street Address                                                         41426\n",
       "City                                                                   41426\n",
       "State                                                                  41426\n",
       "Zip Code                                                               41426\n",
       "Total Episodes (non-LUPA)                                              41426\n",
       "Distinct Beneficiaries (non-LUPA)                                      41426\n",
       "Average Number of Total Visits Per Episode (non-LUPA)                  41426\n",
       "Average Number of Skilled Nursing Visits Per Episode (non-LUPA)        41426\n",
       "Average Number of PT Visits Per Episode (non-LUPA)                     41426\n",
       "Average Number of OT Visits Per Episode (non-LUPA)                     41426\n",
       "Average Number of  ST Visits Per Episode (non-LUPA)                    41426\n",
       "Average Number of Home Health Aide Visits Per Episode (non-LUPA)       41426\n",
       "Average Number of Medical-Social Visits Per Episode (non-LUPA)         41426\n",
       "Total HHA Charge Amount (non-LUPA)                                     41426\n",
       "Total HHA Medicare Payment Amount (non-LUPA)                           41426\n",
       "Total HHA Medicare Standard Payment Amount (non-LUPA)                  41426\n",
       "Outlier Payments as a Percent of Medicare Payment Amount (non-LUPA)    41426\n",
       "Average Age                                                            41426\n",
       "Male Beneficiaries                                                     41426\n",
       "Female Beneficiaries                                                   41426\n",
       "White Beneficiaries                                                    41426\n",
       "Black Beneficiaries                                                    41426\n",
       "Asian Pacific Islander Beneficiaries                                   41426\n",
       "Hispanic Beneficiaries                                                 41426\n",
       "American Indian or Alaska Native Beneficiaries                         41426\n",
       "Average HCC Score                                                      41426\n",
       " Percent of Beneficiaries with Atrial Fibrillation                     41426\n",
       " Percent of Beneficiaries with Alzheimer's                             41426\n",
       " Percent of Beneficiaries with Asthma                                  41426\n",
       " Percent of Beneficiaries with Cancer                                  41426\n",
       " Percent of Beneficiaries with CHF                                     41426\n",
       " Percent of Beneficiaries with Chronic Kidney Disease                  41426\n",
       " Percent of Beneficiaries with COPD                                    41426\n",
       " Percent of Beneficiaries with Depression                              41426\n",
       " Percent of Beneficiaries with Diabetes                                41426\n",
       " Percent of Beneficiaries with Hyperlipidemia                          41426\n",
       " Percent of Beneficiaries with IHD                                     41426\n",
       " Percent of Beneficiaries with Osteoporosis                            41426\n",
       " Percent of Beneficiaries with RA/OA                                   41426\n",
       " Percent of Beneficiaries with Schizophrenia                           41426\n",
       " Percent of Beneficiaries with Stroke                                  41426\n",
       "risk_categorical                                                       41426\n",
       "dtype: int64"
      ]
     },
     "execution_count": 33,
     "metadata": {},
     "output_type": "execute_result"
    }
   ],
   "source": [
    "#take a look at cleaner csv\n",
    "cleaner_hha_df='../datasets/cleaner_hha_df.csv'\n",
    "cleaner_hha_df = pd.read_csv(cleaner_hha_df)\n",
    "cleaner_hha_df.count()"
   ]
  },
  {
   "cell_type": "code",
   "execution_count": 3,
   "metadata": {},
   "outputs": [],
   "source": [
    "features_raw = cleaner_hha_df.drop(['Average HCC Score', 'risk_categorical', 'Provider ID', 'Agency Name', 'Street Address',\\\n",
    "                                    'City', 'State',], axis = 1)\n",
    "\n",
    "real_hcc=cleaner_hha_df['Average HCC Score']"
   ]
  },
  {
   "cell_type": "code",
   "execution_count": 4,
   "metadata": {},
   "outputs": [
    {
     "name": "stdout",
     "output_type": "stream",
     "text": [
      "Training set has 33140 samples.\n",
      "Testing set has 8286 samples.\n"
     ]
    }
   ],
   "source": [
    "from sklearn.model_selection import train_test_split\n",
    "X_train,X_test, y_train, y_test=train_test_split(\n",
    "    features_raw,\n",
    "    real_hcc, \n",
    "    test_size=0.2,\n",
    "    random_state=1)\n",
    "print(\"Training set has {} samples.\".format(X_train.shape[0]))\n",
    "print(\"Testing set has {} samples.\".format(X_test.shape[0]))"
   ]
  },
  {
   "cell_type": "code",
   "execution_count": 74,
   "metadata": {},
   "outputs": [
    {
     "data": {
      "text/plain": [
       "30624    2.24\n",
       "18957    2.74\n",
       "927      2.08\n",
       "5567     2.05\n",
       "29850    2.83\n",
       "Name: Average HCC Score, dtype: float64"
      ]
     },
     "execution_count": 74,
     "metadata": {},
     "output_type": "execute_result"
    }
   ],
   "source": [
    "y_train.head()"
   ]
  },
  {
   "cell_type": "code",
   "execution_count": 73,
   "metadata": {},
   "outputs": [],
   "source": [
    "from sklearn.preprocessing import StandardScaler\n",
    "X_scaler = StandardScaler().fit(X_train)"
   ]
  },
  {
   "cell_type": "code",
   "execution_count": 6,
   "metadata": {},
   "outputs": [],
   "source": [
    "X_train_scaled = X_scaler.transform(X_train)\n",
    "X_test_scaled = X_scaler.transform(X_test)"
   ]
  },
  {
   "cell_type": "code",
   "execution_count": 34,
   "metadata": {},
   "outputs": [],
   "source": [
    "from keras.models import Sequential\n",
    "model = Sequential()"
   ]
  },
  {
   "cell_type": "code",
   "execution_count": 35,
   "metadata": {},
   "outputs": [],
   "source": [
    "from keras.layers import Dense\n",
    "#? input 6x2 in middle\n",
    "model.add(Dense(units=10,activation='relu',input_dim=39))\n",
    "model.add(Dense(units=5, activation='relu'))"
   ]
  },
  {
   "cell_type": "code",
   "execution_count": 36,
   "metadata": {},
   "outputs": [],
   "source": [
    "model.add(Dense(units=1, activation='linear'))"
   ]
  },
  {
   "cell_type": "code",
   "execution_count": 37,
   "metadata": {},
   "outputs": [
    {
     "name": "stdout",
     "output_type": "stream",
     "text": [
      "_________________________________________________________________\n",
      "Layer (type)                 Output Shape              Param #   \n",
      "=================================================================\n",
      "dense_4 (Dense)              (None, 10)                400       \n",
      "_________________________________________________________________\n",
      "dense_5 (Dense)              (None, 5)                 55        \n",
      "_________________________________________________________________\n",
      "dense_6 (Dense)              (None, 1)                 6         \n",
      "=================================================================\n",
      "Total params: 461\n",
      "Trainable params: 461\n",
      "Non-trainable params: 0\n",
      "_________________________________________________________________\n"
     ]
    }
   ],
   "source": [
    "model.summary()"
   ]
  },
  {
   "cell_type": "code",
   "execution_count": 40,
   "metadata": {},
   "outputs": [],
   "source": [
    "model.compile(optimizer='adam', loss='mse')\n"
   ]
  },
  {
   "cell_type": "code",
   "execution_count": 41,
   "metadata": {},
   "outputs": [
    {
     "name": "stdout",
     "output_type": "stream",
     "text": [
      "Epoch 1/100\n",
      " - 2s - loss: 0.0820\n",
      "Epoch 2/100\n",
      " - 2s - loss: 0.0840\n",
      "Epoch 3/100\n",
      " - 1s - loss: 0.0822\n",
      "Epoch 4/100\n",
      " - 2s - loss: 0.0815\n",
      "Epoch 5/100\n",
      " - 2s - loss: 0.0817\n",
      "Epoch 6/100\n",
      " - 2s - loss: 0.0818\n",
      "Epoch 7/100\n",
      " - 2s - loss: 0.0812\n",
      "Epoch 8/100\n",
      " - 2s - loss: 0.0812\n",
      "Epoch 9/100\n",
      " - 2s - loss: 0.0814\n",
      "Epoch 10/100\n",
      " - 1s - loss: 0.0876\n",
      "Epoch 11/100\n",
      " - 2s - loss: 0.0812\n",
      "Epoch 12/100\n",
      " - 2s - loss: 0.0810\n",
      "Epoch 13/100\n",
      " - 1s - loss: 0.0811\n",
      "Epoch 14/100\n",
      " - 1s - loss: 0.0812\n",
      "Epoch 15/100\n",
      " - 2s - loss: 0.0810\n",
      "Epoch 16/100\n",
      " - 2s - loss: 0.0818\n",
      "Epoch 17/100\n",
      " - 2s - loss: 0.0823\n",
      "Epoch 18/100\n",
      " - 2s - loss: 0.0810\n",
      "Epoch 19/100\n",
      " - 2s - loss: 0.0811\n",
      "Epoch 20/100\n",
      " - 2s - loss: 0.0812\n",
      "Epoch 21/100\n",
      " - 2s - loss: 0.0812\n",
      "Epoch 22/100\n",
      " - 2s - loss: 0.0823\n",
      "Epoch 23/100\n",
      " - 2s - loss: 0.0811\n",
      "Epoch 24/100\n",
      " - 2s - loss: 0.0810\n",
      "Epoch 25/100\n",
      " - 2s - loss: 0.0808\n",
      "Epoch 26/100\n",
      " - 2s - loss: 0.0811\n",
      "Epoch 27/100\n",
      " - 2s - loss: 0.0809\n",
      "Epoch 28/100\n",
      " - 2s - loss: 0.0808\n",
      "Epoch 29/100\n",
      " - 2s - loss: 0.0837\n",
      "Epoch 30/100\n",
      " - 2s - loss: 0.0811\n",
      "Epoch 31/100\n",
      " - 2s - loss: 0.0805\n",
      "Epoch 32/100\n",
      " - 1s - loss: 0.0808\n",
      "Epoch 33/100\n",
      " - 2s - loss: 0.0810\n",
      "Epoch 34/100\n",
      " - 2s - loss: 0.0810\n",
      "Epoch 35/100\n",
      " - 2s - loss: 0.0812\n",
      "Epoch 36/100\n",
      " - 2s - loss: 0.0807\n",
      "Epoch 37/100\n",
      " - 2s - loss: 0.0807\n",
      "Epoch 38/100\n",
      " - 2s - loss: 0.0807\n",
      "Epoch 39/100\n",
      " - 2s - loss: 0.0806\n",
      "Epoch 40/100\n",
      " - 2s - loss: 0.0806\n",
      "Epoch 41/100\n",
      " - 2s - loss: 0.0808\n",
      "Epoch 42/100\n",
      " - 2s - loss: 0.0810\n",
      "Epoch 43/100\n",
      " - 2s - loss: 0.0808\n",
      "Epoch 44/100\n",
      " - 2s - loss: 0.0806\n",
      "Epoch 45/100\n",
      " - 2s - loss: 0.0804\n",
      "Epoch 46/100\n",
      " - 2s - loss: 0.0805\n",
      "Epoch 47/100\n",
      " - 2s - loss: 0.0804\n",
      "Epoch 48/100\n",
      " - 2s - loss: 0.0806\n",
      "Epoch 49/100\n",
      " - 2s - loss: 0.0804\n",
      "Epoch 50/100\n",
      " - 2s - loss: 0.0808\n",
      "Epoch 51/100\n",
      " - 2s - loss: 0.0807\n",
      "Epoch 52/100\n",
      " - 2s - loss: 0.0803\n",
      "Epoch 53/100\n",
      " - 2s - loss: 0.0804\n",
      "Epoch 54/100\n",
      " - 2s - loss: 0.0806\n",
      "Epoch 55/100\n",
      " - 2s - loss: 0.0803\n",
      "Epoch 56/100\n",
      " - 2s - loss: 0.0804\n",
      "Epoch 57/100\n",
      " - 2s - loss: 0.0807\n",
      "Epoch 58/100\n",
      " - 2s - loss: 0.0802\n",
      "Epoch 59/100\n",
      " - 2s - loss: 0.0817\n",
      "Epoch 60/100\n",
      " - 2s - loss: 0.0813\n",
      "Epoch 61/100\n",
      " - 2s - loss: 0.0799\n",
      "Epoch 62/100\n",
      " - 2s - loss: 0.0805\n",
      "Epoch 63/100\n",
      " - 2s - loss: 0.0804\n",
      "Epoch 64/100\n",
      " - 2s - loss: 0.0801\n",
      "Epoch 65/100\n",
      " - 2s - loss: 0.0800\n",
      "Epoch 66/100\n",
      " - 2s - loss: 0.0810\n",
      "Epoch 67/100\n",
      " - 2s - loss: 0.0802\n",
      "Epoch 68/100\n",
      " - 2s - loss: 0.0805\n",
      "Epoch 69/100\n",
      " - 2s - loss: 0.0801\n",
      "Epoch 70/100\n",
      " - 2s - loss: 0.0802\n",
      "Epoch 71/100\n",
      " - 2s - loss: 0.0803\n",
      "Epoch 72/100\n",
      " - 2s - loss: 0.0802\n",
      "Epoch 73/100\n",
      " - 2s - loss: 0.0801\n",
      "Epoch 74/100\n",
      " - 2s - loss: 0.0802\n",
      "Epoch 75/100\n",
      " - 2s - loss: 0.0800\n",
      "Epoch 76/100\n",
      " - 2s - loss: 0.0804\n",
      "Epoch 77/100\n",
      " - 2s - loss: 0.0800\n",
      "Epoch 78/100\n",
      " - 2s - loss: 0.0803\n",
      "Epoch 79/100\n",
      " - 2s - loss: 0.0806\n",
      "Epoch 80/100\n",
      " - 2s - loss: 0.0805\n",
      "Epoch 81/100\n",
      " - 2s - loss: 0.0801\n",
      "Epoch 82/100\n",
      " - 2s - loss: 0.0803\n",
      "Epoch 83/100\n",
      " - 1s - loss: 0.0800\n",
      "Epoch 84/100\n",
      " - 2s - loss: 0.0800\n",
      "Epoch 85/100\n",
      " - 2s - loss: 0.0805\n",
      "Epoch 86/100\n",
      " - 2s - loss: 0.0803\n",
      "Epoch 87/100\n",
      " - 2s - loss: 0.0801\n",
      "Epoch 88/100\n",
      " - 2s - loss: 0.0805\n",
      "Epoch 89/100\n",
      " - 2s - loss: 0.0800\n",
      "Epoch 90/100\n",
      " - 2s - loss: 0.0801\n",
      "Epoch 91/100\n",
      " - 2s - loss: 0.0801\n",
      "Epoch 92/100\n",
      " - 2s - loss: 0.0806\n",
      "Epoch 93/100\n",
      " - 2s - loss: 0.0803\n",
      "Epoch 94/100\n",
      " - 2s - loss: 0.0801\n",
      "Epoch 95/100\n",
      " - 2s - loss: 0.0806\n",
      "Epoch 96/100\n",
      " - 2s - loss: 0.0820\n",
      "Epoch 97/100\n",
      " - 2s - loss: 0.0801\n",
      "Epoch 98/100\n",
      " - 4s - loss: 0.0813\n",
      "Epoch 99/100\n",
      " - 18s - loss: 0.0799\n",
      "Epoch 100/100\n",
      " - 1s - loss: 0.0799\n"
     ]
    },
    {
     "data": {
      "text/plain": [
       "<keras.callbacks.History at 0x25d005fc1d0>"
      ]
     },
     "execution_count": 41,
     "metadata": {},
     "output_type": "execute_result"
    }
   ],
   "source": [
    "model.fit(\n",
    "    X_train_scaled, \n",
    "    y_train, \n",
    "    epochs=100,\n",
    "    shuffle=True,\n",
    "    verbose=2)"
   ]
  },
  {
   "cell_type": "code",
   "execution_count": 65,
   "metadata": {},
   "outputs": [
    {
     "name": "stdout",
     "output_type": "stream",
     "text": [
      "Loss: 0.08539706747506857\n"
     ]
    }
   ],
   "source": [
    "model_loss = model.evaluate(\n",
    "    X_test_scaled, \n",
    "    y_test,\n",
    "    verbose=2)\n",
    "print(f'Loss: {model_loss}')"
   ]
  },
  {
   "cell_type": "code",
   "execution_count": 78,
   "metadata": {},
   "outputs": [
    {
     "data": {
      "text/plain": [
       "Text(0,0.5,'Features')"
      ]
     },
     "execution_count": 78,
     "metadata": {},
     "output_type": "execute_result"
    },
    {
     "data": {
      "image/png": "[encoded data removed]",
      "text/plain": [
       "<Figure size 432x288 with 1 Axes>"
      ]
     },
     "metadata": {},
     "output_type": "display_data"
    }
   ],
   "source": [
    "import matplotlib.pyplot as plt\n",
    "%matplotlib inline\n",
    "plt.scatter(y_test,model.predict(X_test_scaled))\n",
    "plt.xlabel('HCC')\n",
    "plt.ylabel('Features')"
   ]
  },
  {
   "cell_type": "code",
   "execution_count": 67,
   "metadata": {},
   "outputs": [
    {
     "data": {
      "text/plain": [
       "(8286, 1)"
      ]
     },
     "execution_count": 67,
     "metadata": {},
     "output_type": "execute_result"
    }
   ],
   "source": [
    "model.predict(X_test_scaled).shape"
   ]
  },
  {
   "cell_type": "code",
   "execution_count": 68,
   "metadata": {},
   "outputs": [],
   "source": [
    "err = model.predict(X_test_scaled)[:,0] - y_test"
   ]
  },
  {
   "cell_type": "code",
   "execution_count": 77,
   "metadata": {},
   "outputs": [
    {
     "data": {
      "text/plain": [
       "Text(0.5,0,'HCC')"
      ]
     },
     "execution_count": 77,
     "metadata": {},
     "output_type": "execute_result"
    },
    {
     "data": {
      "image/png": "[encoded data removed]",
      "text/plain": [
       "<Figure size 432x288 with 1 Axes>"
      ]
     },
     "metadata": {},
     "output_type": "display_data"
    }
   ],
   "source": [
    "plt.scatter(y_test, err)\n",
    "plt.ylabel('Error')\n",
    "plt.xlabel('HCC')"
   ]
  },
  {
   "cell_type": "code",
   "execution_count": 70,
   "metadata": {},
   "outputs": [],
   "source": [
    "preds = model.predict_classes(X_test_scaled)"
   ]
  },
  {
   "cell_type": "code",
   "execution_count": null,
   "metadata": {},
   "outputs": [],
   "source": []
  }
 ],
 "metadata": {
  "kernelspec": {
   "display_name": "Python [conda env:Anaconda3]",
   "language": "python",
   "name": "conda-env-Anaconda3-py"
  },
  "language_info": {
   "codemirror_mode": {
    "name": "ipython",
    "version": 3
   },
   "file_extension": ".py",
   "mimetype": "text/x-python",
   "name": "python",
   "nbconvert_exporter": "python",
   "pygments_lexer": "ipython3",
   "version": "3.6.5"
  }
 },
 "nbformat": 4,
 "nbformat_minor": 2
}
